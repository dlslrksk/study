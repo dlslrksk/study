{
 "cells": [
  {
   "cell_type": "code",
   "execution_count": 1,
   "metadata": {},
   "outputs": [],
   "source": [
    "# 2022/03/10\n",
    "\n",
    "# SQL 연습\n",
    "\n",
    "# 데이터베이스 이름 : ubion"
   ]
  },
  {
   "cell_type": "code",
   "execution_count": 2,
   "metadata": {},
   "outputs": [],
   "source": [
    "# 고객 정보 수집 DB - table name : user_info\n",
    "\n",
    "# 기본키 : ID >> varchar(32) // primary key\n",
    "\n",
    "# 비밀번호 : password >> varchar(32) // Not Null\n",
    "\n",
    "# 이름 : name >> varchar(32) // Not Null\n",
    "\n",
    "# 전화번호 : phone >> varchar(32) // Not Null\n",
    "\n",
    "# 주소 : ads >> varchar(64) // Null 허용\n",
    "\n",
    "# 성별 : gender >> int // Not Null\n",
    "\n",
    "# 나이 : age >> int // Not Null\n",
    "\n",
    "# 가입 날짜 : regit_date >> varchar(32) // Not Null"
   ]
  },
  {
   "cell_type": "code",
   "execution_count": 3,
   "metadata": {},
   "outputs": [],
   "source": [
    "# show databases;\n",
    "\n",
    "# create datebase 데이터베이스명;\n",
    "\n",
    "# drop datebases 데이터베이스명;\n",
    "\n",
    "# use 데이터베이스명;\n",
    "\n",
    "# create table 테이블명 (필드이름1 필드타입1 제약조건1, 필드이름2 필드타입2 제약조건2);\n",
    "\n",
    "# show tables;\n",
    "\n",
    "# desc 테이블명;\n",
    "\n",
    "# alter table 테이블명 add 필드이름(컬럼명) 필드타입 제약조건;\n",
    "\n",
    "# alter table 테이블명 drop 필드이름;\n",
    "\n",
    "# alter table 테이블명 change 현재필드이름 변경필드이름 필드타입 제약조건;\n",
    "\n",
    "# alter table 테이블명 modify column 필드이름 필드타입 제약조건;\n",
    "\n",
    "# insert into 테이블명 values('varchar', int);\n",
    "\n",
    "# insert into 테이블명(필드이름1, 필드이름2) values('varchar', int);\n",
    "\n",
    "# select * from 테이블명;\n",
    "\n",
    "# select 테이블명1.필드이름1, 테이블명1.필드이름2, 테이블명2.필드이름1, 테이블명2.필드이름2 from 테이블명1 left join 테이블명2 on 테이블명1.key = 테이블명2.key; \n",
    "\n",
    "# update 테이블명 set ads(변경필드명) = 'ad.varchar' where name = 'name.varchar';\n",
    "\n",
    "# delete from 테이블명 where name = 'name.varchar';"
   ]
  },
  {
   "cell_type": "code",
   "execution_count": 4,
   "metadata": {},
   "outputs": [],
   "source": [
    "# 주소에 따른 거주자 - table name : ads_info\n",
    "\n",
    "# 주소 : ads varchar(64) primary key\n",
    "\n",
    "# 구성원수 : register_count int not null\n",
    "\n",
    "# 거주기간 : period_of_residence int not null\n",
    "\n",
    "# 계약종류 : Contract_type int not null\n",
    "\n",
    "### join 하기 ###\n",
    "\n",
    "# user_info >> ID, name, ads\n",
    "\n",
    "# ads_info >> register_count, period_of_residence, contract_type"
   ]
  },
  {
   "cell_type": "code",
   "execution_count": 5,
   "metadata": {},
   "outputs": [],
   "source": [
    "# 파이썬으로 연결하기\n",
    "\n",
    "import pymysql"
   ]
  },
  {
   "cell_type": "code",
   "execution_count": 6,
   "metadata": {},
   "outputs": [],
   "source": [
    "# pymysql.connect : sql과 파이썬 연결\n",
    "\n",
    "_db = pymysql.connect(\n",
    "    user = 'root',\n",
    "    passwd = 'dbtjr2293!',\n",
    "    host = 'localhost',\n",
    "    db = 'ubion',\n",
    "    charset = 'utf8'\n",
    "\n",
    ")\n",
    "\n",
    "# user = user name\n",
    "# pass = 설정한 패스워드\n",
    "# host = DB가 존재하는 host\n",
    "# db = 연결할 데이터베이스 이름\n",
    "# charset = 인코딩 설정"
   ]
  },
  {
   "cell_type": "code",
   "execution_count": 7,
   "metadata": {},
   "outputs": [],
   "source": [
    "cursor = _db.cursor(pymysql.cursors.DictCursor)\n",
    "\n",
    "# cursor 만들기\n",
    "# cursor란 쿼리문에 의해서 반환되는 결과값들을 저장하는 메모리공간"
   ]
  },
  {
   "cell_type": "code",
   "execution_count": 15,
   "metadata": {},
   "outputs": [
    {
     "name": "stdout",
     "output_type": "stream",
     "text": [
      "[{'ID': 'test', 'password': '1234', 'name': '고길동', 'phone': '01012345678', 'ads': '서울시 강북구 쌍문동', 'gender': 1, 'age': 45, 'regit_date': '20220310'}, {'ID': 'test2', 'password': '2345', 'name': '둘리', 'phone': '01098765432', 'ads': '북극 어딘가', 'gender': 1, 'age': 10, 'regit_date': '20220310'}, {'ID': 'test3', 'password': '2345', 'name': '마이콜', 'phone': '01056568732', 'ads': '고길동 옆 집', 'gender': 1, 'age': 28, 'regit_date': '20220310'}, {'ID': 'test4', 'password': '2837', 'name': '또치', 'phone': '01033728412', 'ads': '동물원', 'gender': 2, 'age': 4, 'regit_date': '20220310'}]\n"
     ]
    },
    {
     "data": {
      "text/plain": [
       "[{'ID': 'test',\n",
       "  'password': '1234',\n",
       "  'name': '고길동',\n",
       "  'phone': '01012345678',\n",
       "  'ads': '서울시 강북구 쌍문동',\n",
       "  'gender': 1,\n",
       "  'age': 45,\n",
       "  'regit_date': '20220310'},\n",
       " {'ID': 'test2',\n",
       "  'password': '2345',\n",
       "  'name': '둘리',\n",
       "  'phone': '01098765432',\n",
       "  'ads': '북극 어딘가',\n",
       "  'gender': 1,\n",
       "  'age': 10,\n",
       "  'regit_date': '20220310'},\n",
       " {'ID': 'test3',\n",
       "  'password': '2345',\n",
       "  'name': '마이콜',\n",
       "  'phone': '01056568732',\n",
       "  'ads': '고길동 옆 집',\n",
       "  'gender': 1,\n",
       "  'age': 28,\n",
       "  'regit_date': '20220310'},\n",
       " {'ID': 'test4',\n",
       "  'password': '2837',\n",
       "  'name': '또치',\n",
       "  'phone': '01033728412',\n",
       "  'ads': '동물원',\n",
       "  'gender': 2,\n",
       "  'age': 4,\n",
       "  'regit_date': '20220310'}]"
      ]
     },
     "execution_count": 15,
     "metadata": {},
     "output_type": "execute_result"
    }
   ],
   "source": [
    "select_sql = 'select * from user_info'\n",
    "\n",
    "cursor.execute(select_sql) # execute는 cursor 안에 있는 sql 실행\n",
    "result = cursor.fetchall() # fetchall은 cursor에 있는 내용을 result에 모둔 붙임\n",
    "print(result)\n",
    "result"
   ]
  },
  {
   "cell_type": "code",
   "execution_count": 16,
   "metadata": {},
   "outputs": [
    {
     "data": {
      "text/html": [
       "<div>\n",
       "<style scoped>\n",
       "    .dataframe tbody tr th:only-of-type {\n",
       "        vertical-align: middle;\n",
       "    }\n",
       "\n",
       "    .dataframe tbody tr th {\n",
       "        vertical-align: top;\n",
       "    }\n",
       "\n",
       "    .dataframe thead th {\n",
       "        text-align: right;\n",
       "    }\n",
       "</style>\n",
       "<table border=\"1\" class=\"dataframe\">\n",
       "  <thead>\n",
       "    <tr style=\"text-align: right;\">\n",
       "      <th></th>\n",
       "      <th>ID</th>\n",
       "      <th>password</th>\n",
       "      <th>name</th>\n",
       "      <th>phone</th>\n",
       "      <th>ads</th>\n",
       "      <th>gender</th>\n",
       "      <th>age</th>\n",
       "      <th>regit_date</th>\n",
       "    </tr>\n",
       "  </thead>\n",
       "  <tbody>\n",
       "    <tr>\n",
       "      <th>0</th>\n",
       "      <td>test</td>\n",
       "      <td>1234</td>\n",
       "      <td>고길동</td>\n",
       "      <td>01012345678</td>\n",
       "      <td>서울시 강북구 쌍문동</td>\n",
       "      <td>1</td>\n",
       "      <td>45</td>\n",
       "      <td>20220310</td>\n",
       "    </tr>\n",
       "    <tr>\n",
       "      <th>1</th>\n",
       "      <td>test2</td>\n",
       "      <td>2345</td>\n",
       "      <td>둘리</td>\n",
       "      <td>01098765432</td>\n",
       "      <td>북극 어딘가</td>\n",
       "      <td>1</td>\n",
       "      <td>10</td>\n",
       "      <td>20220310</td>\n",
       "    </tr>\n",
       "    <tr>\n",
       "      <th>2</th>\n",
       "      <td>test3</td>\n",
       "      <td>2345</td>\n",
       "      <td>마이콜</td>\n",
       "      <td>01056568732</td>\n",
       "      <td>고길동 옆 집</td>\n",
       "      <td>1</td>\n",
       "      <td>28</td>\n",
       "      <td>20220310</td>\n",
       "    </tr>\n",
       "    <tr>\n",
       "      <th>3</th>\n",
       "      <td>test4</td>\n",
       "      <td>2837</td>\n",
       "      <td>또치</td>\n",
       "      <td>01033728412</td>\n",
       "      <td>동물원</td>\n",
       "      <td>2</td>\n",
       "      <td>4</td>\n",
       "      <td>20220310</td>\n",
       "    </tr>\n",
       "  </tbody>\n",
       "</table>\n",
       "</div>"
      ],
      "text/plain": [
       "      ID password name        phone          ads  gender  age regit_date\n",
       "0   test     1234  고길동  01012345678  서울시 강북구 쌍문동       1   45   20220310\n",
       "1  test2     2345   둘리  01098765432       북극 어딘가       1   10   20220310\n",
       "2  test3     2345  마이콜  01056568732      고길동 옆 집       1   28   20220310\n",
       "3  test4     2837   또치  01033728412          동물원       2    4   20220310"
      ]
     },
     "execution_count": 16,
     "metadata": {},
     "output_type": "execute_result"
    }
   ],
   "source": [
    "import pandas as pd # 판다스 df형태로 만들기\n",
    "\n",
    "dt = pd.DataFrame(result) # df는 딕션너리의 key값을 column으로, values값을 \n",
    "\n",
    "dt"
   ]
  },
  {
   "cell_type": "code",
   "execution_count": 13,
   "metadata": {},
   "outputs": [
    {
     "ename": "IntegrityError",
     "evalue": "(1062, \"Duplicate entry 'test4' for key 'user_info.PRIMARY'\")",
     "output_type": "error",
     "traceback": [
      "\u001b[0;31m---------------------------------------------------------------------------\u001b[0m",
      "\u001b[0;31mIntegrityError\u001b[0m                            Traceback (most recent call last)",
      "\u001b[1;32m/Users/jeon-youseok/Desktop/ubion/SQL/2022:03:10.ipynb Cell 10'\u001b[0m in \u001b[0;36m<module>\u001b[0;34m\u001b[0m\n\u001b[1;32m      <a href='vscode-notebook-cell:/Users/jeon-youseok/Desktop/ubion/SQL/2022%3A03%3A10.ipynb#ch0000009?line=0'>1</a>\u001b[0m insert_sql \u001b[39m=\u001b[39m \u001b[39m'\u001b[39m\u001b[39minsert into user_info values (\u001b[39m\u001b[39m%s\u001b[39;00m\u001b[39m,\u001b[39m\u001b[39m%s\u001b[39;00m\u001b[39m,\u001b[39m\u001b[39m%s\u001b[39;00m\u001b[39m,\u001b[39m\u001b[39m%s\u001b[39;00m\u001b[39m,\u001b[39m\u001b[39m%s\u001b[39;00m\u001b[39m,\u001b[39m\u001b[39m%s\u001b[39;00m\u001b[39m,\u001b[39m\u001b[39m%s\u001b[39;00m\u001b[39m,\u001b[39m\u001b[39m%s\u001b[39;00m\u001b[39m)\u001b[39m\u001b[39m'\u001b[39m \u001b[39m# sql은 %s로만 받아드림\u001b[39;00m\n\u001b[1;32m      <a href='vscode-notebook-cell:/Users/jeon-youseok/Desktop/ubion/SQL/2022%3A03%3A10.ipynb#ch0000009?line=1'>2</a>\u001b[0m values \u001b[39m=\u001b[39m [\u001b[39m'\u001b[39m\u001b[39mtest4\u001b[39m\u001b[39m'\u001b[39m,\u001b[39m'\u001b[39m\u001b[39m2837\u001b[39m\u001b[39m'\u001b[39m,\u001b[39m'\u001b[39m\u001b[39m또치\u001b[39m\u001b[39m'\u001b[39m,\u001b[39m'\u001b[39m\u001b[39m01033728412\u001b[39m\u001b[39m'\u001b[39m,\u001b[39m'\u001b[39m\u001b[39m동물원\u001b[39m\u001b[39m'\u001b[39m,\u001b[39m2\u001b[39m,\u001b[39m4\u001b[39m,\u001b[39m'\u001b[39m\u001b[39m20220310\u001b[39m\u001b[39m'\u001b[39m]\n\u001b[0;32m----> <a href='vscode-notebook-cell:/Users/jeon-youseok/Desktop/ubion/SQL/2022%3A03%3A10.ipynb#ch0000009?line=3'>4</a>\u001b[0m cursor\u001b[39m.\u001b[39;49mexecute(insert_sql, values)\n\u001b[1;32m      <a href='vscode-notebook-cell:/Users/jeon-youseok/Desktop/ubion/SQL/2022%3A03%3A10.ipynb#ch0000009?line=4'>5</a>\u001b[0m _db\u001b[39m.\u001b[39mcommit()\n",
      "File \u001b[0;32m/Library/Frameworks/Python.framework/Versions/3.10/lib/python3.10/site-packages/pymysql/cursors.py:148\u001b[0m, in \u001b[0;36mCursor.execute\u001b[0;34m(self, query, args)\u001b[0m\n\u001b[1;32m    <a href='file:///Library/Frameworks/Python.framework/Versions/3.10/lib/python3.10/site-packages/pymysql/cursors.py?line=143'>144</a>\u001b[0m     \u001b[39mpass\u001b[39;00m\n\u001b[1;32m    <a href='file:///Library/Frameworks/Python.framework/Versions/3.10/lib/python3.10/site-packages/pymysql/cursors.py?line=145'>146</a>\u001b[0m query \u001b[39m=\u001b[39m \u001b[39mself\u001b[39m\u001b[39m.\u001b[39mmogrify(query, args)\n\u001b[0;32m--> <a href='file:///Library/Frameworks/Python.framework/Versions/3.10/lib/python3.10/site-packages/pymysql/cursors.py?line=147'>148</a>\u001b[0m result \u001b[39m=\u001b[39m \u001b[39mself\u001b[39;49m\u001b[39m.\u001b[39;49m_query(query)\n\u001b[1;32m    <a href='file:///Library/Frameworks/Python.framework/Versions/3.10/lib/python3.10/site-packages/pymysql/cursors.py?line=148'>149</a>\u001b[0m \u001b[39mself\u001b[39m\u001b[39m.\u001b[39m_executed \u001b[39m=\u001b[39m query\n\u001b[1;32m    <a href='file:///Library/Frameworks/Python.framework/Versions/3.10/lib/python3.10/site-packages/pymysql/cursors.py?line=149'>150</a>\u001b[0m \u001b[39mreturn\u001b[39;00m result\n",
      "File \u001b[0;32m/Library/Frameworks/Python.framework/Versions/3.10/lib/python3.10/site-packages/pymysql/cursors.py:310\u001b[0m, in \u001b[0;36mCursor._query\u001b[0;34m(self, q)\u001b[0m\n\u001b[1;32m    <a href='file:///Library/Frameworks/Python.framework/Versions/3.10/lib/python3.10/site-packages/pymysql/cursors.py?line=307'>308</a>\u001b[0m \u001b[39mself\u001b[39m\u001b[39m.\u001b[39m_last_executed \u001b[39m=\u001b[39m q\n\u001b[1;32m    <a href='file:///Library/Frameworks/Python.framework/Versions/3.10/lib/python3.10/site-packages/pymysql/cursors.py?line=308'>309</a>\u001b[0m \u001b[39mself\u001b[39m\u001b[39m.\u001b[39m_clear_result()\n\u001b[0;32m--> <a href='file:///Library/Frameworks/Python.framework/Versions/3.10/lib/python3.10/site-packages/pymysql/cursors.py?line=309'>310</a>\u001b[0m conn\u001b[39m.\u001b[39;49mquery(q)\n\u001b[1;32m    <a href='file:///Library/Frameworks/Python.framework/Versions/3.10/lib/python3.10/site-packages/pymysql/cursors.py?line=310'>311</a>\u001b[0m \u001b[39mself\u001b[39m\u001b[39m.\u001b[39m_do_get_result()\n\u001b[1;32m    <a href='file:///Library/Frameworks/Python.framework/Versions/3.10/lib/python3.10/site-packages/pymysql/cursors.py?line=311'>312</a>\u001b[0m \u001b[39mreturn\u001b[39;00m \u001b[39mself\u001b[39m\u001b[39m.\u001b[39mrowcount\n",
      "File \u001b[0;32m/Library/Frameworks/Python.framework/Versions/3.10/lib/python3.10/site-packages/pymysql/connections.py:548\u001b[0m, in \u001b[0;36mConnection.query\u001b[0;34m(self, sql, unbuffered)\u001b[0m\n\u001b[1;32m    <a href='file:///Library/Frameworks/Python.framework/Versions/3.10/lib/python3.10/site-packages/pymysql/connections.py?line=545'>546</a>\u001b[0m     sql \u001b[39m=\u001b[39m sql\u001b[39m.\u001b[39mencode(\u001b[39mself\u001b[39m\u001b[39m.\u001b[39mencoding, \u001b[39m\"\u001b[39m\u001b[39msurrogateescape\u001b[39m\u001b[39m\"\u001b[39m)\n\u001b[1;32m    <a href='file:///Library/Frameworks/Python.framework/Versions/3.10/lib/python3.10/site-packages/pymysql/connections.py?line=546'>547</a>\u001b[0m \u001b[39mself\u001b[39m\u001b[39m.\u001b[39m_execute_command(COMMAND\u001b[39m.\u001b[39mCOM_QUERY, sql)\n\u001b[0;32m--> <a href='file:///Library/Frameworks/Python.framework/Versions/3.10/lib/python3.10/site-packages/pymysql/connections.py?line=547'>548</a>\u001b[0m \u001b[39mself\u001b[39m\u001b[39m.\u001b[39m_affected_rows \u001b[39m=\u001b[39m \u001b[39mself\u001b[39;49m\u001b[39m.\u001b[39;49m_read_query_result(unbuffered\u001b[39m=\u001b[39;49munbuffered)\n\u001b[1;32m    <a href='file:///Library/Frameworks/Python.framework/Versions/3.10/lib/python3.10/site-packages/pymysql/connections.py?line=548'>549</a>\u001b[0m \u001b[39mreturn\u001b[39;00m \u001b[39mself\u001b[39m\u001b[39m.\u001b[39m_affected_rows\n",
      "File \u001b[0;32m/Library/Frameworks/Python.framework/Versions/3.10/lib/python3.10/site-packages/pymysql/connections.py:775\u001b[0m, in \u001b[0;36mConnection._read_query_result\u001b[0;34m(self, unbuffered)\u001b[0m\n\u001b[1;32m    <a href='file:///Library/Frameworks/Python.framework/Versions/3.10/lib/python3.10/site-packages/pymysql/connections.py?line=772'>773</a>\u001b[0m \u001b[39melse\u001b[39;00m:\n\u001b[1;32m    <a href='file:///Library/Frameworks/Python.framework/Versions/3.10/lib/python3.10/site-packages/pymysql/connections.py?line=773'>774</a>\u001b[0m     result \u001b[39m=\u001b[39m MySQLResult(\u001b[39mself\u001b[39m)\n\u001b[0;32m--> <a href='file:///Library/Frameworks/Python.framework/Versions/3.10/lib/python3.10/site-packages/pymysql/connections.py?line=774'>775</a>\u001b[0m     result\u001b[39m.\u001b[39;49mread()\n\u001b[1;32m    <a href='file:///Library/Frameworks/Python.framework/Versions/3.10/lib/python3.10/site-packages/pymysql/connections.py?line=775'>776</a>\u001b[0m \u001b[39mself\u001b[39m\u001b[39m.\u001b[39m_result \u001b[39m=\u001b[39m result\n\u001b[1;32m    <a href='file:///Library/Frameworks/Python.framework/Versions/3.10/lib/python3.10/site-packages/pymysql/connections.py?line=776'>777</a>\u001b[0m \u001b[39mif\u001b[39;00m result\u001b[39m.\u001b[39mserver_status \u001b[39mis\u001b[39;00m \u001b[39mnot\u001b[39;00m \u001b[39mNone\u001b[39;00m:\n",
      "File \u001b[0;32m/Library/Frameworks/Python.framework/Versions/3.10/lib/python3.10/site-packages/pymysql/connections.py:1156\u001b[0m, in \u001b[0;36mMySQLResult.read\u001b[0;34m(self)\u001b[0m\n\u001b[1;32m   <a href='file:///Library/Frameworks/Python.framework/Versions/3.10/lib/python3.10/site-packages/pymysql/connections.py?line=1153'>1154</a>\u001b[0m \u001b[39mdef\u001b[39;00m \u001b[39mread\u001b[39m(\u001b[39mself\u001b[39m):\n\u001b[1;32m   <a href='file:///Library/Frameworks/Python.framework/Versions/3.10/lib/python3.10/site-packages/pymysql/connections.py?line=1154'>1155</a>\u001b[0m     \u001b[39mtry\u001b[39;00m:\n\u001b[0;32m-> <a href='file:///Library/Frameworks/Python.framework/Versions/3.10/lib/python3.10/site-packages/pymysql/connections.py?line=1155'>1156</a>\u001b[0m         first_packet \u001b[39m=\u001b[39m \u001b[39mself\u001b[39;49m\u001b[39m.\u001b[39;49mconnection\u001b[39m.\u001b[39;49m_read_packet()\n\u001b[1;32m   <a href='file:///Library/Frameworks/Python.framework/Versions/3.10/lib/python3.10/site-packages/pymysql/connections.py?line=1157'>1158</a>\u001b[0m         \u001b[39mif\u001b[39;00m first_packet\u001b[39m.\u001b[39mis_ok_packet():\n\u001b[1;32m   <a href='file:///Library/Frameworks/Python.framework/Versions/3.10/lib/python3.10/site-packages/pymysql/connections.py?line=1158'>1159</a>\u001b[0m             \u001b[39mself\u001b[39m\u001b[39m.\u001b[39m_read_ok_packet(first_packet)\n",
      "File \u001b[0;32m/Library/Frameworks/Python.framework/Versions/3.10/lib/python3.10/site-packages/pymysql/connections.py:725\u001b[0m, in \u001b[0;36mConnection._read_packet\u001b[0;34m(self, packet_type)\u001b[0m\n\u001b[1;32m    <a href='file:///Library/Frameworks/Python.framework/Versions/3.10/lib/python3.10/site-packages/pymysql/connections.py?line=722'>723</a>\u001b[0m     \u001b[39mif\u001b[39;00m \u001b[39mself\u001b[39m\u001b[39m.\u001b[39m_result \u001b[39mis\u001b[39;00m \u001b[39mnot\u001b[39;00m \u001b[39mNone\u001b[39;00m \u001b[39mand\u001b[39;00m \u001b[39mself\u001b[39m\u001b[39m.\u001b[39m_result\u001b[39m.\u001b[39munbuffered_active \u001b[39mis\u001b[39;00m \u001b[39mTrue\u001b[39;00m:\n\u001b[1;32m    <a href='file:///Library/Frameworks/Python.framework/Versions/3.10/lib/python3.10/site-packages/pymysql/connections.py?line=723'>724</a>\u001b[0m         \u001b[39mself\u001b[39m\u001b[39m.\u001b[39m_result\u001b[39m.\u001b[39munbuffered_active \u001b[39m=\u001b[39m \u001b[39mFalse\u001b[39;00m\n\u001b[0;32m--> <a href='file:///Library/Frameworks/Python.framework/Versions/3.10/lib/python3.10/site-packages/pymysql/connections.py?line=724'>725</a>\u001b[0m     packet\u001b[39m.\u001b[39;49mraise_for_error()\n\u001b[1;32m    <a href='file:///Library/Frameworks/Python.framework/Versions/3.10/lib/python3.10/site-packages/pymysql/connections.py?line=725'>726</a>\u001b[0m \u001b[39mreturn\u001b[39;00m packet\n",
      "File \u001b[0;32m/Library/Frameworks/Python.framework/Versions/3.10/lib/python3.10/site-packages/pymysql/protocol.py:221\u001b[0m, in \u001b[0;36mMysqlPacket.raise_for_error\u001b[0;34m(self)\u001b[0m\n\u001b[1;32m    <a href='file:///Library/Frameworks/Python.framework/Versions/3.10/lib/python3.10/site-packages/pymysql/protocol.py?line=218'>219</a>\u001b[0m \u001b[39mif\u001b[39;00m DEBUG:\n\u001b[1;32m    <a href='file:///Library/Frameworks/Python.framework/Versions/3.10/lib/python3.10/site-packages/pymysql/protocol.py?line=219'>220</a>\u001b[0m     \u001b[39mprint\u001b[39m(\u001b[39m\"\u001b[39m\u001b[39merrno =\u001b[39m\u001b[39m\"\u001b[39m, errno)\n\u001b[0;32m--> <a href='file:///Library/Frameworks/Python.framework/Versions/3.10/lib/python3.10/site-packages/pymysql/protocol.py?line=220'>221</a>\u001b[0m err\u001b[39m.\u001b[39;49mraise_mysql_exception(\u001b[39mself\u001b[39;49m\u001b[39m.\u001b[39;49m_data)\n",
      "File \u001b[0;32m/Library/Frameworks/Python.framework/Versions/3.10/lib/python3.10/site-packages/pymysql/err.py:143\u001b[0m, in \u001b[0;36mraise_mysql_exception\u001b[0;34m(data)\u001b[0m\n\u001b[1;32m    <a href='file:///Library/Frameworks/Python.framework/Versions/3.10/lib/python3.10/site-packages/pymysql/err.py?line=140'>141</a>\u001b[0m \u001b[39mif\u001b[39;00m errorclass \u001b[39mis\u001b[39;00m \u001b[39mNone\u001b[39;00m:\n\u001b[1;32m    <a href='file:///Library/Frameworks/Python.framework/Versions/3.10/lib/python3.10/site-packages/pymysql/err.py?line=141'>142</a>\u001b[0m     errorclass \u001b[39m=\u001b[39m InternalError \u001b[39mif\u001b[39;00m errno \u001b[39m<\u001b[39m \u001b[39m1000\u001b[39m \u001b[39melse\u001b[39;00m OperationalError\n\u001b[0;32m--> <a href='file:///Library/Frameworks/Python.framework/Versions/3.10/lib/python3.10/site-packages/pymysql/err.py?line=142'>143</a>\u001b[0m \u001b[39mraise\u001b[39;00m errorclass(errno, errval)\n",
      "\u001b[0;31mIntegrityError\u001b[0m: (1062, \"Duplicate entry 'test4' for key 'user_info.PRIMARY'\")"
     ]
    }
   ],
   "source": [
    "insert_sql = 'insert into user_info values (%s,%s,%s,%s,%s,%s,%s,%s)' # sql은 %s로만 받아드림\n",
    "values = ['test4','2837','또치','01033728412','동물원',2,4,'20220310']\n",
    "\n",
    "cursor.execute(insert_sql, values)\n",
    "_db.commit()"
   ]
  },
  {
   "cell_type": "code",
   "execution_count": 14,
   "metadata": {},
   "outputs": [
    {
     "data": {
      "text/plain": [
       "0"
      ]
     },
     "execution_count": 14,
     "metadata": {},
     "output_type": "execute_result"
    }
   ],
   "source": [
    "delete_sql = \"delete from user_info where ID = '1'\"\n",
    "\n",
    "cursor.execute(delete_sql)"
   ]
  },
  {
   "cell_type": "code",
   "execution_count": null,
   "metadata": {},
   "outputs": [],
   "source": [
    "input_ID = input('ID : ')\n",
    "input_pass = input('password : ')\n",
    "input_name = input('name : ')\n",
    "input_phone = input('phone : ')\n",
    "input_ads = input('address : ')\n",
    "input_gender = input('gender : ') # 앞에 int 설정하지 않아도 가능\n",
    "input_age = input('age : ') # 앞에 int 설정하지 않아도 가능\n",
    "input_regit_date = input('regit_date : ')\n",
    "\n",
    "input_list = [input_ID, input_pass, input_name, input_phone, input_ads, input_gender, input_age, input_regit_date]\n",
    "\n",
    "cursor.execute(insert_sql, input_list)\n",
    "_db.commit()\n"
   ]
  },
  {
   "cell_type": "code",
   "execution_count": null,
   "metadata": {},
   "outputs": [],
   "source": [
    "import matplotlib.pyplot as plt\n",
    "from matplotlib import rc\n",
    "import seaborn as sns\n",
    "%matplotlib inline\n",
    "\n",
    "rc('font', family='AppleGothic')\n",
    "\n",
    "plt.rcParams['axes.unicode_minus'] = False\n",
    "\n",
    "# 맥북에서 matplotlib 한글사용"
   ]
  },
  {
   "cell_type": "code",
   "execution_count": null,
   "metadata": {},
   "outputs": [
    {
     "data": {
      "text/plain": [
       "<function matplotlib.pyplot.show(close=None, block=None)>"
      ]
     },
     "execution_count": 94,
     "metadata": {},
     "output_type": "execute_result"
    },
    {
     "data": {
      "image/png": "[encoded data removed]",
      "text/plain": [
       "<Figure size 432x288 with 1 Axes>"
      ]
     },
     "metadata": {
      "needs_background": "light"
     },
     "output_type": "display_data"
    }
   ],
   "source": [
    "input_name_2 = dt['name'].values.tolist()\n",
    "input_age_2 = dt['age'].values.tolist()\n",
    "\n",
    "plt.plot(input_name_2, input_age_2)\n",
    "plt.show"
   ]
  }
 ],
 "metadata": {
  "interpreter": {
   "hash": "aee8b7b246df8f9039afb4144a1f6fd8d2ca17a180786b69acc140d282b71a49"
  },
  "kernelspec": {
   "display_name": "Python 3.10.2 64-bit",
   "language": "python",
   "name": "python3"
  },
  "language_info": {
   "codemirror_mode": {
    "name": "ipython",
    "version": 3
   },
   "file_extension": ".py",
   "mimetype": "text/x-python",
   "name": "python",
   "nbconvert_exporter": "python",
   "pygments_lexer": "ipython3",
   "version": "3.10.2"
  },
  "orig_nbformat": 4
 },
 "nbformat": 4,
 "nbformat_minor": 2
}
