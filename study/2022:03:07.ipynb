{
 "cells": [
  {
   "cell_type": "code",
   "execution_count": 1,
   "metadata": {},
   "outputs": [],
   "source": [
    "# 2022/03/07\n",
    "\n",
    "class Class_1():\n",
    "    def func_1(self):\n",
    "        print('Hello World')"
   ]
  },
  {
   "cell_type": "code",
   "execution_count": 2,
   "metadata": {},
   "outputs": [
    {
     "name": "stdout",
     "output_type": "stream",
     "text": [
      "Hello World\n"
     ]
    }
   ],
   "source": [
    "a = Class_1()\n",
    "\n",
    "a.func_1()\n",
    "\n",
    "# 별칭.함수() : 라이브러리도 이 형태로 구현되어 있다."
   ]
  },
  {
   "cell_type": "code",
   "execution_count": 3,
   "metadata": {},
   "outputs": [
    {
     "name": "stdout",
     "output_type": "stream",
     "text": [
      "Hello World\n"
     ]
    }
   ],
   "source": [
    "class Class_2():\n",
    "    def func_2(self):\n",
    "        print('Hello World')\n",
    "\n",
    "b = Class_2()\n",
    "\n",
    "b.func_2()"
   ]
  },
  {
   "cell_type": "code",
   "execution_count": 4,
   "metadata": {},
   "outputs": [
    {
     "name": "stdout",
     "output_type": "stream",
     "text": [
      "test\n"
     ]
    },
    {
     "data": {
      "text/plain": [
       "'test2'"
      ]
     },
     "execution_count": 4,
     "metadata": {},
     "output_type": "execute_result"
    }
   ],
   "source": [
    "class Class_3():\n",
    "    def __init__(self, input_a, input_b):\n",
    "        self.a = input_a\n",
    "        self.b = input_b\n",
    "\n",
    "c = Class_3('test', 'test2')\n",
    "\n",
    "print(c.a)\n",
    "c.b\n"
   ]
  },
  {
   "cell_type": "code",
   "execution_count": 5,
   "metadata": {},
   "outputs": [
    {
     "name": "stdout",
     "output_type": "stream",
     "text": [
      "test3\n"
     ]
    },
    {
     "data": {
      "text/plain": [
       "'test4'"
      ]
     },
     "execution_count": 5,
     "metadata": {},
     "output_type": "execute_result"
    }
   ],
   "source": [
    "d = Class_3('test3','test4')\n",
    "\n",
    "print(d.a)\n",
    "d.b\n"
   ]
  },
  {
   "cell_type": "code",
   "execution_count": 6,
   "metadata": {},
   "outputs": [
    {
     "data": {
      "text/plain": [
       "4302564464"
      ]
     },
     "execution_count": 6,
     "metadata": {},
     "output_type": "execute_result"
    }
   ],
   "source": [
    "# 클래스가 존재하는 공간 확인\n",
    "\n",
    "id(c.a)"
   ]
  },
  {
   "cell_type": "code",
   "execution_count": 3,
   "metadata": {},
   "outputs": [],
   "source": [
    "class Class_4():\n",
    "\n",
    "    name = 'test' # class 변수\n",
    "\n",
    "    def __init__(self, input_c):\n",
    "        self.c = input_c\n",
    "\n",
    "A = Class_4('123')\n",
    "B = Class_4('456')\n",
    "C = Class_4('789')"
   ]
  },
  {
   "cell_type": "code",
   "execution_count": 4,
   "metadata": {},
   "outputs": [
    {
     "name": "stdout",
     "output_type": "stream",
     "text": [
      "test test test\n",
      "123 456 789\n"
     ]
    }
   ],
   "source": [
    "print(A.name, B.name, C.name)\n",
    "print(A.c, B.c, C.c)"
   ]
  },
  {
   "cell_type": "code",
   "execution_count": 5,
   "metadata": {},
   "outputs": [
    {
     "name": "stdout",
     "output_type": "stream",
     "text": [
      "4308659568\n",
      "4308659568\n",
      "4308659568\n",
      "4350805808\n",
      "4373122288\n",
      "4373132848\n"
     ]
    }
   ],
   "source": [
    "# class 변수는 같은 공간에서 출력\n",
    "\n",
    "print(id(A.name))\n",
    "print(id(B.name))\n",
    "print(id(C.name))\n",
    "print(id(A.c))\n",
    "print(id(B.c))\n",
    "print(id(C.c))"
   ]
  },
  {
   "cell_type": "code",
   "execution_count": 9,
   "metadata": {},
   "outputs": [
    {
     "name": "stdout",
     "output_type": "stream",
     "text": [
      "['01012345678', '01098765432'] ['01012345678', '01098765432']\n"
     ]
    }
   ],
   "source": [
    "# 리스트가 공유된다. 공유되지 않게 하려면(독립되게 하려면)?\n",
    "\n",
    "class Class_5():\n",
    "    _list = []\n",
    "\n",
    "    def __init__(self, input_name):\n",
    "        self.name = input_name\n",
    "\n",
    "    def  add_list(self, input_phone):\n",
    "        self._list.append(input_phone)\n",
    "\n",
    "d = Class_5('test')\n",
    "e = Class_5('test2')\n",
    "d.add_list('01012345678')\n",
    "e.add_list('01098765432')\n",
    "print(d._list, e._list)\n",
    "        "
   ]
  },
  {
   "cell_type": "code",
   "execution_count": 10,
   "metadata": {},
   "outputs": [
    {
     "name": "stdout",
     "output_type": "stream",
     "text": [
      "['01012345678'] ['01098765432']\n"
     ]
    }
   ],
   "source": [
    "# __init__ 초기 생성시 변수와 리스트 값을 설정하자.\n",
    "\n",
    "class Class_5():\n",
    "\n",
    "    def __init__(self, input_name):\n",
    "        self.name = input_name\n",
    "        self._list = []\n",
    "\n",
    "    def add_list(self, input_phone):\n",
    "        self._list.append(input_phone)\n",
    "\n",
    "d = Class_5('test')\n",
    "e = Class_5('test2')\n",
    "d.add_list('01012345678')\n",
    "e.add_list('01098765432')\n",
    "print(d._list, e._list)"
   ]
  },
  {
   "cell_type": "code",
   "execution_count": 11,
   "metadata": {},
   "outputs": [
    {
     "name": "stdout",
     "output_type": "stream",
     "text": [
      "['01012345678', '1234'] ['01098765432', '5678']\n"
     ]
    }
   ],
   "source": [
    "d.add_list('1234')\n",
    "e.add_list('5678')\n",
    "print(d._list, e._list)"
   ]
  },
  {
   "cell_type": "code",
   "execution_count": 25,
   "metadata": {},
   "outputs": [
    {
     "name": "stdout",
     "output_type": "stream",
     "text": [
      "2\n",
      "6\n"
     ]
    }
   ],
   "source": [
    "# global 전역변수 지정\n",
    "\n",
    "sum = 0\n",
    "\n",
    "def add(x):\n",
    "    global sum\n",
    "    sum += x\n",
    "    return sum\n",
    "\n",
    "print(add(2))\n",
    "print(add(4))"
   ]
  },
  {
   "cell_type": "code",
   "execution_count": 26,
   "metadata": {},
   "outputs": [
    {
     "name": "stdout",
     "output_type": "stream",
     "text": [
      "3\n",
      "4\n",
      "13\n",
      "5\n"
     ]
    }
   ],
   "source": [
    "sum_1 = 0\n",
    "sum_2 = 0\n",
    "\n",
    "def add_1(x):\n",
    "    global sum_1\n",
    "    sum_1 += x\n",
    "    return sum_1\n",
    "\n",
    "def add_2(x):\n",
    "    global sum_2\n",
    "    sum_2 += x\n",
    "    return sum_2\n",
    "\n",
    "print(add_1(3))\n",
    "print(add_2(4))\n",
    "print(add_1(10))\n",
    "print(add_2(1))\n",
    "        "
   ]
  },
  {
   "cell_type": "code",
   "execution_count": 14,
   "metadata": {},
   "outputs": [
    {
     "name": "stdout",
     "output_type": "stream",
     "text": [
      "1024\n",
      "6883\n"
     ]
    },
    {
     "data": {
      "text/plain": [
       "6883"
      ]
     },
     "execution_count": 14,
     "metadata": {},
     "output_type": "execute_result"
    }
   ],
   "source": [
    "class Class_6():\n",
    "\n",
    "    def __init__(self):\n",
    "        self._sum = 0\n",
    "\n",
    "    def add(self, add_1):\n",
    "        self._sum += add_1 # 누적합\n",
    "        return self._sum\n",
    "\n",
    "a = Class_6()\n",
    "b = Class_6()\n",
    "\n",
    "print(a.add(1024))\n",
    "print(b.add(6883))\n",
    "\n",
    "Class_6().add(1024)\n",
    "Class_6().add(6883)"
   ]
  },
  {
   "cell_type": "code",
   "execution_count": 15,
   "metadata": {},
   "outputs": [
    {
     "name": "stdout",
     "output_type": "stream",
     "text": [
      "None\n",
      "1024\n",
      "6883\n"
     ]
    }
   ],
   "source": [
    "class Class_7():\n",
    "    \n",
    "    def __init__(self):\n",
    "        self._sum = 0\n",
    "\n",
    "    def add(self, add_1):\n",
    "        self._sum += add_1\n",
    "\n",
    "a = Class_7()\n",
    "b = Class_7()\n",
    "\n",
    "a.add(1024)\n",
    "print(b.add(6883))\n",
    "\n",
    "Class_7().add(1024)\n",
    "\n",
    "print(a._sum)\n",
    "print(b._sum)"
   ]
  },
  {
   "cell_type": "code",
   "execution_count": 16,
   "metadata": {},
   "outputs": [],
   "source": [
    "# 1. Class 생성 >> 초기에 인자값 2개를 입력 받아서 변수 2개 값들을 지정\n",
    "# 2. 첫번째 함수 변수 2개의 값을 변경하는 함수\n",
    "# 3. +, -, *, /, %의 함수를 생성\n",
    "# 4. 7개의 함수를 실행해보기"
   ]
  },
  {
   "cell_type": "code",
   "execution_count": 17,
   "metadata": {},
   "outputs": [
    {
     "name": "stdout",
     "output_type": "stream",
     "text": [
      "10 24\n",
      "100 24\n",
      "124\n",
      "76\n",
      "2400\n",
      "4.166666666666667\n",
      "4\n"
     ]
    }
   ],
   "source": [
    "class Class_8():\n",
    "    \n",
    "    def __init__(self, input_x, input_y):\n",
    "        self.x = input_x\n",
    "        self.y = input_y\n",
    "\n",
    "    def _change(self, change_x, change_y): # def _함수명(매개변수)\n",
    "        self.x = change_x                  #    (객체)변수 = 매개변수\n",
    "        self.y = change_y\n",
    "\n",
    "    def _add(self):\n",
    "        self._add = self.x + self.y\n",
    "        return self._add\n",
    "\n",
    "    def _sub(self):\n",
    "        self._sub = self.x - self.y\n",
    "        return self._sub\n",
    "\n",
    "    def _mul(self):\n",
    "        self._mul = self.x * self.y\n",
    "        return self._mul\n",
    "\n",
    "    def _div(self):\n",
    "        if self.y == 0 :\n",
    "            return 0;\n",
    "        else:\n",
    "            self._div = self.x / self.y\n",
    "            return self._div\n",
    "\n",
    "    def _rem(self):\n",
    "        if self.y == 0 :\n",
    "            return 0;\n",
    "        else:\n",
    "            self._rem = self.x % self.y\n",
    "            return self._rem\n",
    "            \n",
    "a = Class_8(10,24)\n",
    "print(a.x, a.y)\n",
    "\n",
    "a._change(100,24)\n",
    "print(a.x, a.y)\n",
    "\n",
    "print(a._add())\n",
    "print(a._sub())\n",
    "print(a._mul())\n",
    "print(a._div())\n",
    "print(a._rem())\n"
   ]
  },
  {
   "cell_type": "code",
   "execution_count": 18,
   "metadata": {},
   "outputs": [
    {
     "name": "stdout",
     "output_type": "stream",
     "text": [
      "10 24\n",
      "100 0\n",
      "100\n",
      "100\n",
      "0\n",
      "0\n",
      "0\n"
     ]
    }
   ],
   "source": [
    "a = Class_8(10,24)\n",
    "print(a.x, a.y)\n",
    "\n",
    "a._change(100,0)\n",
    "print(a.x, a.y)\n",
    "\n",
    "print(a._add())\n",
    "print(a._sub())\n",
    "print(a._mul())\n",
    "print(a._div())\n",
    "print(a._rem())"
   ]
  },
  {
   "cell_type": "code",
   "execution_count": 19,
   "metadata": {},
   "outputs": [],
   "source": [
    "# 밑변의 길이와 높이를 인자값으로 입력하는 class 생성\n",
    "# 삼각형의 넓이와 사각형의 넓이를 구하는 함수 생성\n",
    "# 함수는 init을 제외한 1개의 함수\n",
    "# 인자값에서 삼각형, 사각형 유형 나누기"
   ]
  },
  {
   "cell_type": "code",
   "execution_count": 20,
   "metadata": {},
   "outputs": [
    {
     "data": {
      "text/plain": [
       "10"
      ]
     },
     "execution_count": 20,
     "metadata": {},
     "output_type": "execute_result"
    }
   ],
   "source": [
    "class Class_9():\n",
    "    def __init__(self, input_a, input_b, input_c):\n",
    "        self.a = input_a\n",
    "        self.b = input_b\n",
    "        self.c = input_c\n",
    "\n",
    "    def area(self):\n",
    "        if self.c == 'S':\n",
    "            return self.a * self.b\n",
    "        elif self.c == 'T':\n",
    "            return self.a * self.b * 1/2\n",
    "        else:\n",
    "            return '조건에 맞지 않습니다.'\n",
    "\n",
    "a = Class_9(2,5,'S')\n",
    "\n",
    "a.area()\n"
   ]
  },
  {
   "cell_type": "code",
   "execution_count": 21,
   "metadata": {},
   "outputs": [
    {
     "name": "stdout",
     "output_type": "stream",
     "text": [
      "조건 '3'는 삼각형, '4'는 사각형\n",
      "10\n",
      "5.0\n",
      "조건에 맞지 않습니다.\n"
     ]
    }
   ],
   "source": [
    "class Class_9():\n",
    "    def __init__(self, input_a, input_b):\n",
    "        self.a = input_a\n",
    "        self.b = input_b\n",
    "        print(\"조건 '3'는 삼각형, '4'는 사각형\")\n",
    "\n",
    "    def area(self, x):\n",
    "        if x == 3 :\n",
    "            return self.a * self.b\n",
    "        elif x == 4:\n",
    "            return self.a * self.b * 1/2\n",
    "        else:\n",
    "            return '조건에 맞지 않습니다.'\n",
    "\n",
    "a = Class_9(2,5)\n",
    "\n",
    "print(a.area(3))\n",
    "print(a.area(4))\n",
    "print(a.area(5))"
   ]
  },
  {
   "cell_type": "code",
   "execution_count": 29,
   "metadata": {},
   "outputs": [
    {
     "name": "stdout",
     "output_type": "stream",
     "text": [
      "[18.84, 28.26]\n"
     ]
    }
   ],
   "source": [
    "class Class_10():\n",
    "    _pie = 3.14\n",
    "\n",
    "\n",
    "    def area(self, r):\n",
    "        self.result =[]\n",
    "        self.result.append(2*self._pie*r) # 원의 둘레\n",
    "        self.result.append(self._pie * (r**2)) # 원의 넓이\n",
    "        return self.result\n",
    "\n",
    "x = Class_10()\n",
    "\n",
    "print(x.area(3))\n",
    "\n",
    "\n"
   ]
  },
  {
   "cell_type": "code",
   "execution_count": 30,
   "metadata": {},
   "outputs": [
    {
     "name": "stdout",
     "output_type": "stream",
     "text": [
      "[15.42, 14.13]\n",
      "[18.84, 28.26]\n"
     ]
    }
   ],
   "source": [
    "class Class_11(Class_10):\n",
    "    def __init__(self, input_r):\n",
    "        self.r = input_r\n",
    "\n",
    "    def half(self):\n",
    "        self.result =[]\n",
    "        self.result.append(self._pie * self.r + 2 * self.r) # 반원의 둘레\n",
    "        self.result.append(self._pie * (self.r ** 2) / 2) # 반원의 넓이\n",
    "        return self.result\n",
    "\n",
    "y = Class_11(3)\n",
    "print(y.half())\n",
    "print(y.area(3))"
   ]
  },
  {
   "cell_type": "code",
   "execution_count": 26,
   "metadata": {},
   "outputs": [
    {
     "name": "stdout",
     "output_type": "stream",
     "text": [
      "[15.42, 14.13]\n",
      "[18.84, 28.26]\n",
      "[18.84, 28.26]\n"
     ]
    }
   ],
   "source": [
    "class Class_11(Class_10):\n",
    "    def __init__(self, input_r):\n",
    "        self.r = input_r\n",
    "\n",
    "    def half(self):\n",
    "        self.result =[]\n",
    "        self.result.append(self._pie * self.r + 2 * self.r) # 반원의 둘레\n",
    "        self.result.append(self._pie * (self.r ** 2) / 2) # 반원의 넓이\n",
    "        return self.result\n",
    "\n",
    "    def area(self): # area 메서드 수정작업, 오버라이딩\n",
    "        self.result =[]\n",
    "        self.result.append(2*self._pie*self.r) # 원의 둘레\n",
    "        self.result.append(self._pie * (self.r**2)) # 원의 넓이\n",
    "        return self.result\n",
    "\n",
    "y = Class_11(3)\n",
    "print(y.half())\n",
    "print(y.area())\n",
    "print(x.area(3))"
   ]
  }
 ],
 "metadata": {
  "interpreter": {
   "hash": "aee8b7b246df8f9039afb4144a1f6fd8d2ca17a180786b69acc140d282b71a49"
  },
  "kernelspec": {
   "display_name": "Python 3.10.2 64-bit",
   "language": "python",
   "name": "python3"
  },
  "language_info": {
   "codemirror_mode": {
    "name": "ipython",
    "version": 3
   },
   "file_extension": ".py",
   "mimetype": "text/x-python",
   "name": "python",
   "nbconvert_exporter": "python",
   "pygments_lexer": "ipython3",
   "version": "3.10.2"
  },
  "orig_nbformat": 4
 },
 "nbformat": 4,
 "nbformat_minor": 2
}
