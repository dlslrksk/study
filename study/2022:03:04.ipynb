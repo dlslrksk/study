{
 "cells": [
  {
   "cell_type": "code",
   "execution_count": 1,
   "metadata": {},
   "outputs": [],
   "source": [
    "# 2022/03/04\n",
    "\n",
    "import pandas as pd"
   ]
  },
  {
   "cell_type": "code",
   "execution_count": 2,
   "metadata": {},
   "outputs": [
    {
     "data": {
      "text/html": [
       "<div>\n",
       "<style scoped>\n",
       "    .dataframe tbody tr th:only-of-type {\n",
       "        vertical-align: middle;\n",
       "    }\n",
       "\n",
       "    .dataframe tbody tr th {\n",
       "        vertical-align: top;\n",
       "    }\n",
       "\n",
       "    .dataframe thead th {\n",
       "        text-align: right;\n",
       "    }\n",
       "</style>\n",
       "<table border=\"1\" class=\"dataframe\">\n",
       "  <thead>\n",
       "    <tr style=\"text-align: right;\">\n",
       "      <th></th>\n",
       "      <th>Region</th>\n",
       "      <th>Country</th>\n",
       "      <th>Item Type</th>\n",
       "      <th>Sales Channel</th>\n",
       "      <th>Order Priority</th>\n",
       "      <th>Order Date</th>\n",
       "      <th>Order ID</th>\n",
       "      <th>Ship Date</th>\n",
       "      <th>Units Sold</th>\n",
       "      <th>Unit Price</th>\n",
       "      <th>Unit Cost</th>\n",
       "      <th>Total Revenue</th>\n",
       "      <th>Total Cost</th>\n",
       "      <th>Total Profit</th>\n",
       "    </tr>\n",
       "  </thead>\n",
       "  <tbody>\n",
       "    <tr>\n",
       "      <th>0</th>\n",
       "      <td>Sub-Saharan Africa</td>\n",
       "      <td>Chad</td>\n",
       "      <td>Office Supplies</td>\n",
       "      <td>Online</td>\n",
       "      <td>L</td>\n",
       "      <td>1/27/2011</td>\n",
       "      <td>292494523</td>\n",
       "      <td>2/12/2011</td>\n",
       "      <td>4484</td>\n",
       "      <td>651.21</td>\n",
       "      <td>524.96</td>\n",
       "      <td>2920025.64</td>\n",
       "      <td>2353920.64</td>\n",
       "      <td>566105.00</td>\n",
       "    </tr>\n",
       "    <tr>\n",
       "      <th>1</th>\n",
       "      <td>Europe</td>\n",
       "      <td>Latvia</td>\n",
       "      <td>Beverages</td>\n",
       "      <td>Online</td>\n",
       "      <td>C</td>\n",
       "      <td>12/28/2015</td>\n",
       "      <td>361825549</td>\n",
       "      <td>1/23/2016</td>\n",
       "      <td>1075</td>\n",
       "      <td>47.45</td>\n",
       "      <td>31.79</td>\n",
       "      <td>51008.75</td>\n",
       "      <td>34174.25</td>\n",
       "      <td>16834.50</td>\n",
       "    </tr>\n",
       "    <tr>\n",
       "      <th>2</th>\n",
       "      <td>Middle East and North Africa</td>\n",
       "      <td>Pakistan</td>\n",
       "      <td>Vegetables</td>\n",
       "      <td>Offline</td>\n",
       "      <td>C</td>\n",
       "      <td>1/13/2011</td>\n",
       "      <td>141515767</td>\n",
       "      <td>2/1/2011</td>\n",
       "      <td>6515</td>\n",
       "      <td>154.06</td>\n",
       "      <td>90.93</td>\n",
       "      <td>1003700.90</td>\n",
       "      <td>592408.95</td>\n",
       "      <td>411291.95</td>\n",
       "    </tr>\n",
       "    <tr>\n",
       "      <th>3</th>\n",
       "      <td>Sub-Saharan Africa</td>\n",
       "      <td>Democratic Republic of the Congo</td>\n",
       "      <td>Household</td>\n",
       "      <td>Online</td>\n",
       "      <td>C</td>\n",
       "      <td>9/11/2012</td>\n",
       "      <td>500364005</td>\n",
       "      <td>10/6/2012</td>\n",
       "      <td>7683</td>\n",
       "      <td>668.27</td>\n",
       "      <td>502.54</td>\n",
       "      <td>5134318.41</td>\n",
       "      <td>3861014.82</td>\n",
       "      <td>1273303.59</td>\n",
       "    </tr>\n",
       "    <tr>\n",
       "      <th>4</th>\n",
       "      <td>Europe</td>\n",
       "      <td>Czech Republic</td>\n",
       "      <td>Beverages</td>\n",
       "      <td>Online</td>\n",
       "      <td>C</td>\n",
       "      <td>10/27/2015</td>\n",
       "      <td>127481591</td>\n",
       "      <td>12/5/2015</td>\n",
       "      <td>3491</td>\n",
       "      <td>47.45</td>\n",
       "      <td>31.79</td>\n",
       "      <td>165647.95</td>\n",
       "      <td>110978.89</td>\n",
       "      <td>54669.06</td>\n",
       "    </tr>\n",
       "    <tr>\n",
       "      <th>...</th>\n",
       "      <td>...</td>\n",
       "      <td>...</td>\n",
       "      <td>...</td>\n",
       "      <td>...</td>\n",
       "      <td>...</td>\n",
       "      <td>...</td>\n",
       "      <td>...</td>\n",
       "      <td>...</td>\n",
       "      <td>...</td>\n",
       "      <td>...</td>\n",
       "      <td>...</td>\n",
       "      <td>...</td>\n",
       "      <td>...</td>\n",
       "      <td>...</td>\n",
       "    </tr>\n",
       "    <tr>\n",
       "      <th>9995</th>\n",
       "      <td>Asia</td>\n",
       "      <td>Laos</td>\n",
       "      <td>Beverages</td>\n",
       "      <td>Online</td>\n",
       "      <td>H</td>\n",
       "      <td>7/15/2014</td>\n",
       "      <td>199342048</td>\n",
       "      <td>7/31/2014</td>\n",
       "      <td>8597</td>\n",
       "      <td>47.45</td>\n",
       "      <td>31.79</td>\n",
       "      <td>407927.65</td>\n",
       "      <td>273298.63</td>\n",
       "      <td>134629.02</td>\n",
       "    </tr>\n",
       "    <tr>\n",
       "      <th>9996</th>\n",
       "      <td>Europe</td>\n",
       "      <td>Liechtenstein</td>\n",
       "      <td>Cosmetics</td>\n",
       "      <td>Online</td>\n",
       "      <td>C</td>\n",
       "      <td>10/27/2012</td>\n",
       "      <td>763044106</td>\n",
       "      <td>11/1/2012</td>\n",
       "      <td>562</td>\n",
       "      <td>437.20</td>\n",
       "      <td>263.33</td>\n",
       "      <td>245706.40</td>\n",
       "      <td>147991.46</td>\n",
       "      <td>97714.94</td>\n",
       "    </tr>\n",
       "    <tr>\n",
       "      <th>9997</th>\n",
       "      <td>Sub-Saharan Africa</td>\n",
       "      <td>Democratic Republic of the Congo</td>\n",
       "      <td>Vegetables</td>\n",
       "      <td>Offline</td>\n",
       "      <td>M</td>\n",
       "      <td>2/14/2013</td>\n",
       "      <td>848579967</td>\n",
       "      <td>3/20/2013</td>\n",
       "      <td>2524</td>\n",
       "      <td>154.06</td>\n",
       "      <td>90.93</td>\n",
       "      <td>388847.44</td>\n",
       "      <td>229507.32</td>\n",
       "      <td>159340.12</td>\n",
       "    </tr>\n",
       "    <tr>\n",
       "      <th>9998</th>\n",
       "      <td>Sub-Saharan Africa</td>\n",
       "      <td>South Africa</td>\n",
       "      <td>Meat</td>\n",
       "      <td>Online</td>\n",
       "      <td>L</td>\n",
       "      <td>2/19/2017</td>\n",
       "      <td>298185956</td>\n",
       "      <td>2/22/2017</td>\n",
       "      <td>8706</td>\n",
       "      <td>421.89</td>\n",
       "      <td>364.69</td>\n",
       "      <td>3672974.34</td>\n",
       "      <td>3174991.14</td>\n",
       "      <td>497983.20</td>\n",
       "    </tr>\n",
       "    <tr>\n",
       "      <th>9999</th>\n",
       "      <td>Asia</td>\n",
       "      <td>Mongolia</td>\n",
       "      <td>Snacks</td>\n",
       "      <td>Offline</td>\n",
       "      <td>M</td>\n",
       "      <td>4/12/2016</td>\n",
       "      <td>824410903</td>\n",
       "      <td>4/16/2016</td>\n",
       "      <td>361</td>\n",
       "      <td>152.58</td>\n",
       "      <td>97.44</td>\n",
       "      <td>55081.38</td>\n",
       "      <td>35175.84</td>\n",
       "      <td>19905.54</td>\n",
       "    </tr>\n",
       "  </tbody>\n",
       "</table>\n",
       "<p>10000 rows × 14 columns</p>\n",
       "</div>"
      ],
      "text/plain": [
       "                            Region                           Country  \\\n",
       "0               Sub-Saharan Africa                              Chad   \n",
       "1                           Europe                            Latvia   \n",
       "2     Middle East and North Africa                          Pakistan   \n",
       "3               Sub-Saharan Africa  Democratic Republic of the Congo   \n",
       "4                           Europe                    Czech Republic   \n",
       "...                            ...                               ...   \n",
       "9995                          Asia                              Laos   \n",
       "9996                        Europe                     Liechtenstein   \n",
       "9997            Sub-Saharan Africa  Democratic Republic of the Congo   \n",
       "9998            Sub-Saharan Africa                      South Africa   \n",
       "9999                          Asia                          Mongolia   \n",
       "\n",
       "            Item Type Sales Channel Order Priority  Order Date   Order ID  \\\n",
       "0     Office Supplies        Online              L   1/27/2011  292494523   \n",
       "1           Beverages        Online              C  12/28/2015  361825549   \n",
       "2          Vegetables       Offline              C   1/13/2011  141515767   \n",
       "3           Household        Online              C   9/11/2012  500364005   \n",
       "4           Beverages        Online              C  10/27/2015  127481591   \n",
       "...               ...           ...            ...         ...        ...   \n",
       "9995        Beverages        Online              H   7/15/2014  199342048   \n",
       "9996        Cosmetics        Online              C  10/27/2012  763044106   \n",
       "9997       Vegetables       Offline              M   2/14/2013  848579967   \n",
       "9998             Meat        Online              L   2/19/2017  298185956   \n",
       "9999           Snacks       Offline              M   4/12/2016  824410903   \n",
       "\n",
       "      Ship Date  Units Sold  Unit Price  Unit Cost  Total Revenue  Total Cost  \\\n",
       "0     2/12/2011        4484      651.21     524.96     2920025.64  2353920.64   \n",
       "1     1/23/2016        1075       47.45      31.79       51008.75    34174.25   \n",
       "2      2/1/2011        6515      154.06      90.93     1003700.90   592408.95   \n",
       "3     10/6/2012        7683      668.27     502.54     5134318.41  3861014.82   \n",
       "4     12/5/2015        3491       47.45      31.79      165647.95   110978.89   \n",
       "...         ...         ...         ...        ...            ...         ...   \n",
       "9995  7/31/2014        8597       47.45      31.79      407927.65   273298.63   \n",
       "9996  11/1/2012         562      437.20     263.33      245706.40   147991.46   \n",
       "9997  3/20/2013        2524      154.06      90.93      388847.44   229507.32   \n",
       "9998  2/22/2017        8706      421.89     364.69     3672974.34  3174991.14   \n",
       "9999  4/16/2016         361      152.58      97.44       55081.38    35175.84   \n",
       "\n",
       "      Total Profit  \n",
       "0        566105.00  \n",
       "1         16834.50  \n",
       "2        411291.95  \n",
       "3       1273303.59  \n",
       "4         54669.06  \n",
       "...            ...  \n",
       "9995     134629.02  \n",
       "9996      97714.94  \n",
       "9997     159340.12  \n",
       "9998     497983.20  \n",
       "9999      19905.54  \n",
       "\n",
       "[10000 rows x 14 columns]"
      ]
     },
     "execution_count": 2,
     "metadata": {},
     "output_type": "execute_result"
    }
   ],
   "source": [
    "sales_df = pd.read_csv(\"./pandas/Sales Records.csv\")\n",
    "sales_df"
   ]
  },
  {
   "cell_type": "code",
   "execution_count": 3,
   "metadata": {},
   "outputs": [],
   "source": [
    "### 해야 될 것 ###\n",
    "\n",
    "# 1. 컬럼 삭제(ship date, order id, sales channel, Total Revenue) >> 원본데이터 유지 (새로운 변수 필요)\n",
    "\n",
    "# 2. 컬럼명 수정 >> 원본데이터 유지 불필요 (새로운 변수 불필요)\n",
    "\n",
    "# 3. Country 기준으로 Sort\n",
    "\n",
    "# 4. index 값을 초기화\n",
    "\n",
    "# Web >> sales_records_web >> ex_main.ipynb에서 계속..."
   ]
  },
  {
   "cell_type": "code",
   "execution_count": 4,
   "metadata": {},
   "outputs": [],
   "source": [
    "import datetime"
   ]
  },
  {
   "cell_type": "code",
   "execution_count": 5,
   "metadata": {},
   "outputs": [
    {
     "data": {
      "text/plain": [
       "str"
      ]
     },
     "execution_count": 5,
     "metadata": {},
     "output_type": "execute_result"
    }
   ],
   "source": [
    "format = \"%Y-%m-%d %H:%M:%S\"\n",
    "\n",
    "time_str = \"2022-03-04 13:01:30\"\n",
    "\n",
    "type(time_str)"
   ]
  },
  {
   "cell_type": "code",
   "execution_count": 6,
   "metadata": {},
   "outputs": [
    {
     "data": {
      "text/plain": [
       "datetime.datetime(2022, 3, 4, 13, 1, 30)"
      ]
     },
     "execution_count": 6,
     "metadata": {},
     "output_type": "execute_result"
    }
   ],
   "source": [
    "# strptime : 문자열로부터 날짜와 시간 정보를 읽어서 datetime.datetime 클래스 객체를 만듬\n",
    "\n",
    "time_datetime = datetime.datetime.strptime(time_str, format)\n",
    "time_datetime"
   ]
  },
  {
   "cell_type": "code",
   "execution_count": 7,
   "metadata": {},
   "outputs": [
    {
     "data": {
      "text/plain": [
       "datetime.datetime"
      ]
     },
     "execution_count": 7,
     "metadata": {},
     "output_type": "execute_result"
    }
   ],
   "source": [
    "type(time_datetime)"
   ]
  },
  {
   "cell_type": "code",
   "execution_count": 8,
   "metadata": {},
   "outputs": [
    {
     "data": {
      "text/plain": [
       "datetime.datetime(2022, 3, 7, 9, 23, 56, 452978)"
      ]
     },
     "execution_count": 8,
     "metadata": {},
     "output_type": "execute_result"
    }
   ],
   "source": [
    "datetime.datetime.today()"
   ]
  },
  {
   "cell_type": "code",
   "execution_count": 9,
   "metadata": {},
   "outputs": [
    {
     "name": "stdout",
     "output_type": "stream",
     "text": [
      "2022-03-07\n",
      "2022-03-07 09:23:56.472145\n"
     ]
    }
   ],
   "source": [
    "print(datetime.date.today())\n",
    "\n",
    "print(datetime.datetime.today())"
   ]
  },
  {
   "cell_type": "code",
   "execution_count": 10,
   "metadata": {},
   "outputs": [
    {
     "name": "stdout",
     "output_type": "stream",
     "text": [
      "2022-03-04 13:01:30\n",
      "<class 'str'>\n"
     ]
    }
   ],
   "source": [
    "# strftime : 날짜와 시간 정보를 문자열로 바꿔주는 함수\n",
    "\n",
    "time_str_2 = time_datetime.strftime(format)\n",
    "print(time_str_2)\n",
    "print(type(time_str_2))"
   ]
  },
  {
   "cell_type": "code",
   "execution_count": 11,
   "metadata": {},
   "outputs": [],
   "source": [
    "import pandas as pd"
   ]
  },
  {
   "cell_type": "code",
   "execution_count": 12,
   "metadata": {},
   "outputs": [
    {
     "data": {
      "text/plain": [
       "Timestamp('1970-01-02 00:00:00')"
      ]
     },
     "execution_count": 12,
     "metadata": {},
     "output_type": "execute_result"
    }
   ],
   "source": [
    "# 1970-01-01 기준\n",
    "\n",
    "# unit = 'D' : 날짜를 더 해줌\n",
    "\n",
    "pd.Timestamp(1, unit='D')"
   ]
  },
  {
   "cell_type": "code",
   "execution_count": 13,
   "metadata": {},
   "outputs": [
    {
     "data": {
      "text/plain": [
       "Timestamp('2022-03-04 00:00:00')"
      ]
     },
     "execution_count": 13,
     "metadata": {},
     "output_type": "execute_result"
    }
   ],
   "source": [
    "pd.Timestamp('2022-03-04')"
   ]
  },
  {
   "cell_type": "code",
   "execution_count": 14,
   "metadata": {},
   "outputs": [
    {
     "data": {
      "text/plain": [
       "Timestamp('2022-03-01 00:00:00')"
      ]
     },
     "execution_count": 14,
     "metadata": {},
     "output_type": "execute_result"
    }
   ],
   "source": [
    "pd.Timestamp('2022-03')"
   ]
  },
  {
   "cell_type": "code",
   "execution_count": 15,
   "metadata": {},
   "outputs": [
    {
     "data": {
      "text/plain": [
       "Timestamp('2022-03-04 10:24:30')"
      ]
     },
     "execution_count": 15,
     "metadata": {},
     "output_type": "execute_result"
    }
   ],
   "source": [
    "pd.to_datetime('2022-03-04 10:24:30')"
   ]
  },
  {
   "cell_type": "code",
   "execution_count": 16,
   "metadata": {},
   "outputs": [
    {
     "data": {
      "text/plain": [
       "DatetimeIndex(['2022-01-02', '2022-01-09', '2022-01-16', '2022-01-23',\n",
       "               '2022-01-30', '2022-02-06', '2022-02-13', '2022-02-20',\n",
       "               '2022-02-27'],\n",
       "              dtype='datetime64[ns]', freq='W-SUN')"
      ]
     },
     "execution_count": 16,
     "metadata": {},
     "output_type": "execute_result"
    }
   ],
   "source": [
    "# freq='W' : 일요일 기준으로 출력\n",
    "# freq='W-MON' : 월요일 기준으로 출력\n",
    "# freq='D' : 일 기준으로 출력\n",
    "# freq='M' : 월 기준으로 출력\n",
    "# freq='Y' : 연 기준으로 출력\n",
    "\n",
    "pd.date_range('2022-01-01', '2022-03-04', freq='W')"
   ]
  },
  {
   "cell_type": "code",
   "execution_count": 17,
   "metadata": {},
   "outputs": [
    {
     "data": {
      "text/plain": [
       "Period('2022-03-04', 'D')"
      ]
     },
     "execution_count": 17,
     "metadata": {},
     "output_type": "execute_result"
    }
   ],
   "source": [
    "# Period : 입력된 값과 형태를 나타냄\n",
    "\n",
    "pd.Period('2022-03-04')"
   ]
  },
  {
   "cell_type": "code",
   "execution_count": 18,
   "metadata": {},
   "outputs": [
    {
     "data": {
      "text/plain": [
       "PeriodIndex(['2000-01', '2000-02', '2000-03', '2000-04', '2000-05', '2000-06',\n",
       "             '2000-07', '2000-08', '2000-09', '2000-10',\n",
       "             ...\n",
       "             '2021-06', '2021-07', '2021-08', '2021-09', '2021-10', '2021-11',\n",
       "             '2021-12', '2022-01', '2022-02', '2022-03'],\n",
       "            dtype='period[M]', length=267)"
      ]
     },
     "execution_count": 18,
     "metadata": {},
     "output_type": "execute_result"
    }
   ],
   "source": [
    "pd.period_range('2000-01-01','2022-03-04', freq='M')"
   ]
  },
  {
   "cell_type": "code",
   "execution_count": 19,
   "metadata": {},
   "outputs": [
    {
     "name": "stdout",
     "output_type": "stream",
     "text": [
      "2022-03-04 00:00:00\n",
      "2022-03-04 23:59:59.999999999\n"
     ]
    }
   ],
   "source": [
    "p = pd.Period('2022-03-04')\n",
    "print(p.start_time)\n",
    "print(p.end_time)"
   ]
  },
  {
   "cell_type": "code",
   "execution_count": 20,
   "metadata": {},
   "outputs": [
    {
     "data": {
      "text/plain": [
       "Timedelta('1 days 00:00:00')"
      ]
     },
     "execution_count": 20,
     "metadata": {},
     "output_type": "execute_result"
    }
   ],
   "source": [
    "# Timedelta 시간에 대한 연산을 할 때 사용\n",
    "\n",
    "pd.Timedelta('1 days')"
   ]
  },
  {
   "cell_type": "code",
   "execution_count": 21,
   "metadata": {},
   "outputs": [
    {
     "name": "stdout",
     "output_type": "stream",
     "text": [
      "1 days 00:00:00\n",
      "1 days 02:00:00\n",
      "-3 days +23:56:59.999999997\n"
     ]
    }
   ],
   "source": [
    "print(pd.Timedelta('1 days'))\n",
    "print(pd.Timedelta('1 days 2 hours'))\n",
    "print(pd.Timedelta('-2 days 3min 3ns'))"
   ]
  },
  {
   "cell_type": "code",
   "execution_count": 22,
   "metadata": {},
   "outputs": [
    {
     "data": {
      "text/plain": [
       "Timestamp('1992-10-26 00:00:00')"
      ]
     },
     "execution_count": 22,
     "metadata": {},
     "output_type": "execute_result"
    }
   ],
   "source": [
    "pd.Timestamp('1992-10-24') + pd.Timedelta('2days')"
   ]
  },
  {
   "cell_type": "code",
   "execution_count": 23,
   "metadata": {},
   "outputs": [
    {
     "data": {
      "text/html": [
       "<div>\n",
       "<style scoped>\n",
       "    .dataframe tbody tr th:only-of-type {\n",
       "        vertical-align: middle;\n",
       "    }\n",
       "\n",
       "    .dataframe tbody tr th {\n",
       "        vertical-align: top;\n",
       "    }\n",
       "\n",
       "    .dataframe thead th {\n",
       "        text-align: right;\n",
       "    }\n",
       "</style>\n",
       "<table border=\"1\" class=\"dataframe\">\n",
       "  <thead>\n",
       "    <tr style=\"text-align: right;\">\n",
       "      <th></th>\n",
       "      <th>s1</th>\n",
       "      <th>s2</th>\n",
       "      <th>s3</th>\n",
       "    </tr>\n",
       "  </thead>\n",
       "  <tbody>\n",
       "    <tr>\n",
       "      <th>0</th>\n",
       "      <td>1.0</td>\n",
       "      <td>1.0</td>\n",
       "      <td>1.0</td>\n",
       "    </tr>\n",
       "    <tr>\n",
       "      <th>1</th>\n",
       "      <td>NaN</td>\n",
       "      <td>2.0</td>\n",
       "      <td>2.0</td>\n",
       "    </tr>\n",
       "    <tr>\n",
       "      <th>2</th>\n",
       "      <td>3.0</td>\n",
       "      <td>NaN</td>\n",
       "      <td>3.0</td>\n",
       "    </tr>\n",
       "    <tr>\n",
       "      <th>3</th>\n",
       "      <td>4.0</td>\n",
       "      <td>4.0</td>\n",
       "      <td>NaN</td>\n",
       "    </tr>\n",
       "    <tr>\n",
       "      <th>4</th>\n",
       "      <td>5.0</td>\n",
       "      <td>5.0</td>\n",
       "      <td>5.0</td>\n",
       "    </tr>\n",
       "  </tbody>\n",
       "</table>\n",
       "</div>"
      ],
      "text/plain": [
       "    s1   s2   s3\n",
       "0  1.0  1.0  1.0\n",
       "1  NaN  2.0  2.0\n",
       "2  3.0  NaN  3.0\n",
       "3  4.0  4.0  NaN\n",
       "4  5.0  5.0  5.0"
      ]
     },
     "execution_count": 23,
     "metadata": {},
     "output_type": "execute_result"
    }
   ],
   "source": [
    "import numpy as np\n",
    "\n",
    "s1 = pd.Series([1, np.nan, 3, 4, 5])\n",
    "s2 = pd.Series([1, 2, np.nan, 4, 5])\n",
    "s3 = pd.Series([1, 2, 3, np.nan, 5])\n",
    "df = pd.DataFrame({'s1' : s1,\n",
    "                    's2' : s2,\n",
    "                    's3' : s3})\n",
    "\n",
    "df                    "
   ]
  },
  {
   "cell_type": "code",
   "execution_count": 24,
   "metadata": {},
   "outputs": [
    {
     "data": {
      "text/plain": [
       "0    False\n",
       "1     True\n",
       "2    False\n",
       "3    False\n",
       "4    False\n",
       "Name: s1, dtype: bool"
      ]
     },
     "execution_count": 24,
     "metadata": {},
     "output_type": "execute_result"
    }
   ],
   "source": [
    "# isna() : 결측치 확인\n",
    "# isna().sum() : 결측치 개수 확인\n",
    "\n",
    "df.isna()\n",
    "\n",
    "df['s1'].isna()\n"
   ]
  },
  {
   "cell_type": "code",
   "execution_count": 25,
   "metadata": {},
   "outputs": [
    {
     "data": {
      "text/plain": [
       "False"
      ]
     },
     "execution_count": 25,
     "metadata": {},
     "output_type": "execute_result"
    }
   ],
   "source": [
    "True == 0"
   ]
  },
  {
   "cell_type": "code",
   "execution_count": 26,
   "metadata": {},
   "outputs": [
    {
     "data": {
      "text/plain": [
       "True"
      ]
     },
     "execution_count": 26,
     "metadata": {},
     "output_type": "execute_result"
    }
   ],
   "source": [
    "False == 0"
   ]
  },
  {
   "cell_type": "code",
   "execution_count": 27,
   "metadata": {},
   "outputs": [
    {
     "data": {
      "text/html": [
       "<div>\n",
       "<style scoped>\n",
       "    .dataframe tbody tr th:only-of-type {\n",
       "        vertical-align: middle;\n",
       "    }\n",
       "\n",
       "    .dataframe tbody tr th {\n",
       "        vertical-align: top;\n",
       "    }\n",
       "\n",
       "    .dataframe thead th {\n",
       "        text-align: right;\n",
       "    }\n",
       "</style>\n",
       "<table border=\"1\" class=\"dataframe\">\n",
       "  <thead>\n",
       "    <tr style=\"text-align: right;\">\n",
       "      <th></th>\n",
       "      <th>s1</th>\n",
       "      <th>s2</th>\n",
       "      <th>s3</th>\n",
       "    </tr>\n",
       "  </thead>\n",
       "  <tbody>\n",
       "    <tr>\n",
       "      <th>0</th>\n",
       "      <td>1.0</td>\n",
       "      <td>1.0</td>\n",
       "      <td>1.0</td>\n",
       "    </tr>\n",
       "    <tr>\n",
       "      <th>4</th>\n",
       "      <td>5.0</td>\n",
       "      <td>5.0</td>\n",
       "      <td>5.0</td>\n",
       "    </tr>\n",
       "  </tbody>\n",
       "</table>\n",
       "</div>"
      ],
      "text/plain": [
       "    s1   s2   s3\n",
       "0  1.0  1.0  1.0\n",
       "4  5.0  5.0  5.0"
      ]
     },
     "execution_count": 27,
     "metadata": {},
     "output_type": "execute_result"
    }
   ],
   "source": [
    "# axis = 0 = 'rows'\n",
    "# axis = 1 = 'columns'\n",
    "\n",
    "df.dropna(axis=0)"
   ]
  },
  {
   "cell_type": "code",
   "execution_count": 28,
   "metadata": {},
   "outputs": [
    {
     "data": {
      "text/html": [
       "<div>\n",
       "<style scoped>\n",
       "    .dataframe tbody tr th:only-of-type {\n",
       "        vertical-align: middle;\n",
       "    }\n",
       "\n",
       "    .dataframe tbody tr th {\n",
       "        vertical-align: top;\n",
       "    }\n",
       "\n",
       "    .dataframe thead th {\n",
       "        text-align: right;\n",
       "    }\n",
       "</style>\n",
       "<table border=\"1\" class=\"dataframe\">\n",
       "  <thead>\n",
       "    <tr style=\"text-align: right;\">\n",
       "      <th></th>\n",
       "      <th>s1</th>\n",
       "      <th>s2</th>\n",
       "      <th>s3</th>\n",
       "    </tr>\n",
       "  </thead>\n",
       "  <tbody>\n",
       "    <tr>\n",
       "      <th>0</th>\n",
       "      <td>2.0</td>\n",
       "      <td>1.0</td>\n",
       "      <td>1.0</td>\n",
       "    </tr>\n",
       "    <tr>\n",
       "      <th>1</th>\n",
       "      <td>NaN</td>\n",
       "      <td>2.0</td>\n",
       "      <td>2.0</td>\n",
       "    </tr>\n",
       "    <tr>\n",
       "      <th>2</th>\n",
       "      <td>4.0</td>\n",
       "      <td>NaN</td>\n",
       "      <td>3.0</td>\n",
       "    </tr>\n",
       "    <tr>\n",
       "      <th>3</th>\n",
       "      <td>5.0</td>\n",
       "      <td>4.0</td>\n",
       "      <td>NaN</td>\n",
       "    </tr>\n",
       "    <tr>\n",
       "      <th>4</th>\n",
       "      <td>6.0</td>\n",
       "      <td>5.0</td>\n",
       "      <td>5.0</td>\n",
       "    </tr>\n",
       "  </tbody>\n",
       "</table>\n",
       "</div>"
      ],
      "text/plain": [
       "    s1   s2   s3\n",
       "0  2.0  1.0  1.0\n",
       "1  NaN  2.0  2.0\n",
       "2  4.0  NaN  3.0\n",
       "3  5.0  4.0  NaN\n",
       "4  6.0  5.0  5.0"
      ]
     },
     "execution_count": 28,
     "metadata": {},
     "output_type": "execute_result"
    }
   ],
   "source": [
    "# 칼럼 값에 일괄되게 더할 수 있다\n",
    "\n",
    "df['s1'] = df['s1'] + 1\n",
    "\n",
    "df"
   ]
  },
  {
   "cell_type": "code",
   "execution_count": 29,
   "metadata": {},
   "outputs": [
    {
     "data": {
      "text/html": [
       "<div>\n",
       "<style scoped>\n",
       "    .dataframe tbody tr th:only-of-type {\n",
       "        vertical-align: middle;\n",
       "    }\n",
       "\n",
       "    .dataframe tbody tr th {\n",
       "        vertical-align: top;\n",
       "    }\n",
       "\n",
       "    .dataframe thead th {\n",
       "        text-align: right;\n",
       "    }\n",
       "</style>\n",
       "<table border=\"1\" class=\"dataframe\">\n",
       "  <thead>\n",
       "    <tr style=\"text-align: right;\">\n",
       "      <th></th>\n",
       "      <th>s1</th>\n",
       "      <th>s2</th>\n",
       "      <th>s3</th>\n",
       "    </tr>\n",
       "  </thead>\n",
       "  <tbody>\n",
       "    <tr>\n",
       "      <th>0</th>\n",
       "      <td>2.0</td>\n",
       "      <td>6.0</td>\n",
       "      <td>1.0</td>\n",
       "    </tr>\n",
       "    <tr>\n",
       "      <th>1</th>\n",
       "      <td>NaN</td>\n",
       "      <td>6.0</td>\n",
       "      <td>2.0</td>\n",
       "    </tr>\n",
       "    <tr>\n",
       "      <th>2</th>\n",
       "      <td>4.0</td>\n",
       "      <td>NaN</td>\n",
       "      <td>3.0</td>\n",
       "    </tr>\n",
       "    <tr>\n",
       "      <th>3</th>\n",
       "      <td>5.0</td>\n",
       "      <td>6.0</td>\n",
       "      <td>NaN</td>\n",
       "    </tr>\n",
       "    <tr>\n",
       "      <th>4</th>\n",
       "      <td>6.0</td>\n",
       "      <td>6.0</td>\n",
       "      <td>5.0</td>\n",
       "    </tr>\n",
       "  </tbody>\n",
       "</table>\n",
       "</div>"
      ],
      "text/plain": [
       "    s1   s2   s3\n",
       "0  2.0  6.0  1.0\n",
       "1  NaN  6.0  2.0\n",
       "2  4.0  NaN  3.0\n",
       "3  5.0  6.0  NaN\n",
       "4  6.0  6.0  5.0"
      ]
     },
     "execution_count": 29,
     "metadata": {},
     "output_type": "execute_result"
    }
   ],
   "source": [
    "_list = [5,4,3,2,1]\n",
    "\n",
    "df['s2'] = df['s2'] + _list\n",
    "\n",
    "df"
   ]
  },
  {
   "cell_type": "code",
   "execution_count": 30,
   "metadata": {},
   "outputs": [
    {
     "data": {
      "text/html": [
       "<div>\n",
       "<style scoped>\n",
       "    .dataframe tbody tr th:only-of-type {\n",
       "        vertical-align: middle;\n",
       "    }\n",
       "\n",
       "    .dataframe tbody tr th {\n",
       "        vertical-align: top;\n",
       "    }\n",
       "\n",
       "    .dataframe thead th {\n",
       "        text-align: right;\n",
       "    }\n",
       "</style>\n",
       "<table border=\"1\" class=\"dataframe\">\n",
       "  <thead>\n",
       "    <tr style=\"text-align: right;\">\n",
       "      <th></th>\n",
       "      <th>s1</th>\n",
       "      <th>s2</th>\n",
       "      <th>s3</th>\n",
       "    </tr>\n",
       "  </thead>\n",
       "  <tbody>\n",
       "    <tr>\n",
       "      <th>0</th>\n",
       "      <td>2.0</td>\n",
       "      <td>6.0</td>\n",
       "      <td>2.0</td>\n",
       "    </tr>\n",
       "    <tr>\n",
       "      <th>1</th>\n",
       "      <td>NaN</td>\n",
       "      <td>6.0</td>\n",
       "      <td>4.0</td>\n",
       "    </tr>\n",
       "    <tr>\n",
       "      <th>2</th>\n",
       "      <td>4.0</td>\n",
       "      <td>NaN</td>\n",
       "      <td>6.0</td>\n",
       "    </tr>\n",
       "    <tr>\n",
       "      <th>3</th>\n",
       "      <td>5.0</td>\n",
       "      <td>6.0</td>\n",
       "      <td>NaN</td>\n",
       "    </tr>\n",
       "    <tr>\n",
       "      <th>4</th>\n",
       "      <td>6.0</td>\n",
       "      <td>6.0</td>\n",
       "      <td>10.0</td>\n",
       "    </tr>\n",
       "  </tbody>\n",
       "</table>\n",
       "</div>"
      ],
      "text/plain": [
       "    s1   s2    s3\n",
       "0  2.0  6.0   2.0\n",
       "1  NaN  6.0   4.0\n",
       "2  4.0  NaN   6.0\n",
       "3  5.0  6.0   NaN\n",
       "4  6.0  6.0  10.0"
      ]
     },
     "execution_count": 30,
     "metadata": {},
     "output_type": "execute_result"
    }
   ],
   "source": [
    "_tuple = (1,2,3,4,5)\n",
    "\n",
    "df['s3'] = df['s3'] + _tuple\n",
    "\n",
    "df"
   ]
  },
  {
   "cell_type": "code",
   "execution_count": 31,
   "metadata": {},
   "outputs": [
    {
     "data": {
      "text/html": [
       "<div>\n",
       "<style scoped>\n",
       "    .dataframe tbody tr th:only-of-type {\n",
       "        vertical-align: middle;\n",
       "    }\n",
       "\n",
       "    .dataframe tbody tr th {\n",
       "        vertical-align: top;\n",
       "    }\n",
       "\n",
       "    .dataframe thead th {\n",
       "        text-align: right;\n",
       "    }\n",
       "</style>\n",
       "<table border=\"1\" class=\"dataframe\">\n",
       "  <thead>\n",
       "    <tr style=\"text-align: right;\">\n",
       "      <th></th>\n",
       "      <th>0</th>\n",
       "      <th>1</th>\n",
       "      <th>2</th>\n",
       "    </tr>\n",
       "  </thead>\n",
       "  <tbody>\n",
       "    <tr>\n",
       "      <th>0</th>\n",
       "      <td>24.0</td>\n",
       "      <td>30.0</td>\n",
       "      <td>40.0</td>\n",
       "    </tr>\n",
       "    <tr>\n",
       "      <th>1</th>\n",
       "      <td>NaN</td>\n",
       "      <td>NaN</td>\n",
       "      <td>NaN</td>\n",
       "    </tr>\n",
       "    <tr>\n",
       "      <th>2</th>\n",
       "      <td>NaN</td>\n",
       "      <td>NaN</td>\n",
       "      <td>NaN</td>\n",
       "    </tr>\n",
       "    <tr>\n",
       "      <th>3</th>\n",
       "      <td>NaN</td>\n",
       "      <td>NaN</td>\n",
       "      <td>NaN</td>\n",
       "    </tr>\n",
       "    <tr>\n",
       "      <th>4</th>\n",
       "      <td>40.0</td>\n",
       "      <td>50.0</td>\n",
       "      <td>72.0</td>\n",
       "    </tr>\n",
       "  </tbody>\n",
       "</table>\n",
       "</div>"
      ],
      "text/plain": [
       "      0     1     2\n",
       "0  24.0  30.0  40.0\n",
       "1   NaN   NaN   NaN\n",
       "2   NaN   NaN   NaN\n",
       "3   NaN   NaN   NaN\n",
       "4  40.0  50.0  72.0"
      ]
     },
     "execution_count": 31,
     "metadata": {},
     "output_type": "execute_result"
    }
   ],
   "source": [
    "_list_2 = ([2,1,2],[3,4,5],[1,2,3])\n",
    "\n",
    "dot_result = df @ _list_2\n",
    "\n",
    "dot_result"
   ]
  },
  {
   "cell_type": "code",
   "execution_count": 32,
   "metadata": {},
   "outputs": [
    {
     "data": {
      "text/html": [
       "<div>\n",
       "<style scoped>\n",
       "    .dataframe tbody tr th:only-of-type {\n",
       "        vertical-align: middle;\n",
       "    }\n",
       "\n",
       "    .dataframe tbody tr th {\n",
       "        vertical-align: top;\n",
       "    }\n",
       "\n",
       "    .dataframe thead th {\n",
       "        text-align: right;\n",
       "    }\n",
       "</style>\n",
       "<table border=\"1\" class=\"dataframe\">\n",
       "  <thead>\n",
       "    <tr style=\"text-align: right;\">\n",
       "      <th></th>\n",
       "      <th>s1</th>\n",
       "      <th>s2</th>\n",
       "      <th>s3</th>\n",
       "    </tr>\n",
       "  </thead>\n",
       "  <tbody>\n",
       "    <tr>\n",
       "      <th>s1</th>\n",
       "      <td>1</td>\n",
       "      <td>4</td>\n",
       "      <td>7</td>\n",
       "    </tr>\n",
       "    <tr>\n",
       "      <th>s2</th>\n",
       "      <td>2</td>\n",
       "      <td>5</td>\n",
       "      <td>8</td>\n",
       "    </tr>\n",
       "    <tr>\n",
       "      <th>s3</th>\n",
       "      <td>3</td>\n",
       "      <td>6</td>\n",
       "      <td>9</td>\n",
       "    </tr>\n",
       "  </tbody>\n",
       "</table>\n",
       "</div>"
      ],
      "text/plain": [
       "    s1  s2  s3\n",
       "s1   1   4   7\n",
       "s2   2   5   8\n",
       "s3   3   6   9"
      ]
     },
     "execution_count": 32,
     "metadata": {},
     "output_type": "execute_result"
    }
   ],
   "source": [
    "# 데이터 프레임을 행렬곱을 하기 위해서는 첫번째 행렬의 열(columns)과 두번째 행렬의 행(index)의 숫자가 명칭이 동일하여야 한다.(??)\n",
    "\n",
    "s1 = pd.Series([1,2,3])\n",
    "s2 = pd.Series([4,5,6])\n",
    "s3 = pd.Series([7,8,9])\n",
    "\n",
    "df_2 = pd.DataFrame({'s1':s1,\n",
    "                        's2':s2,\n",
    "                        's3':s3})\n",
    "\n",
    "df_2.index = df.columns\n",
    "\n",
    "df_2"
   ]
  },
  {
   "cell_type": "code",
   "execution_count": 33,
   "metadata": {},
   "outputs": [
    {
     "data": {
      "text/html": [
       "<div>\n",
       "<style scoped>\n",
       "    .dataframe tbody tr th:only-of-type {\n",
       "        vertical-align: middle;\n",
       "    }\n",
       "\n",
       "    .dataframe tbody tr th {\n",
       "        vertical-align: top;\n",
       "    }\n",
       "\n",
       "    .dataframe thead th {\n",
       "        text-align: right;\n",
       "    }\n",
       "</style>\n",
       "<table border=\"1\" class=\"dataframe\">\n",
       "  <thead>\n",
       "    <tr style=\"text-align: right;\">\n",
       "      <th></th>\n",
       "      <th>s1</th>\n",
       "      <th>s2</th>\n",
       "      <th>s3</th>\n",
       "    </tr>\n",
       "  </thead>\n",
       "  <tbody>\n",
       "    <tr>\n",
       "      <th>0</th>\n",
       "      <td>20.0</td>\n",
       "      <td>50.0</td>\n",
       "      <td>80.0</td>\n",
       "    </tr>\n",
       "    <tr>\n",
       "      <th>1</th>\n",
       "      <td>NaN</td>\n",
       "      <td>NaN</td>\n",
       "      <td>NaN</td>\n",
       "    </tr>\n",
       "    <tr>\n",
       "      <th>2</th>\n",
       "      <td>NaN</td>\n",
       "      <td>NaN</td>\n",
       "      <td>NaN</td>\n",
       "    </tr>\n",
       "    <tr>\n",
       "      <th>3</th>\n",
       "      <td>NaN</td>\n",
       "      <td>NaN</td>\n",
       "      <td>NaN</td>\n",
       "    </tr>\n",
       "    <tr>\n",
       "      <th>4</th>\n",
       "      <td>48.0</td>\n",
       "      <td>114.0</td>\n",
       "      <td>180.0</td>\n",
       "    </tr>\n",
       "  </tbody>\n",
       "</table>\n",
       "</div>"
      ],
      "text/plain": [
       "     s1     s2     s3\n",
       "0  20.0   50.0   80.0\n",
       "1   NaN    NaN    NaN\n",
       "2   NaN    NaN    NaN\n",
       "3   NaN    NaN    NaN\n",
       "4  48.0  114.0  180.0"
      ]
     },
     "execution_count": 33,
     "metadata": {},
     "output_type": "execute_result"
    }
   ],
   "source": [
    "df @ df_2"
   ]
  },
  {
   "cell_type": "code",
   "execution_count": 34,
   "metadata": {},
   "outputs": [
    {
     "data": {
      "text/plain": [
       "array([[ 2.,  6.,  2.],\n",
       "       [nan,  6.,  4.],\n",
       "       [ 4., nan,  6.],\n",
       "       [ 5.,  6., nan],\n",
       "       [ 6.,  6., 10.]])"
      ]
     },
     "execution_count": 34,
     "metadata": {},
     "output_type": "execute_result"
    }
   ],
   "source": [
    "df.to_numpy()"
   ]
  },
  {
   "cell_type": "code",
   "execution_count": 35,
   "metadata": {},
   "outputs": [
    {
     "data": {
      "text/plain": [
       "array([[ 20.,  50.,  80.],\n",
       "       [ nan,  nan,  nan],\n",
       "       [ nan,  nan,  nan],\n",
       "       [ nan,  nan,  nan],\n",
       "       [ 48., 114., 180.]])"
      ]
     },
     "execution_count": 35,
     "metadata": {},
     "output_type": "execute_result"
    }
   ],
   "source": [
    "df.to_numpy().dot(df_2.to_numpy())"
   ]
  }
 ],
 "metadata": {
  "interpreter": {
   "hash": "aee8b7b246df8f9039afb4144a1f6fd8d2ca17a180786b69acc140d282b71a49"
  },
  "kernelspec": {
   "display_name": "Python 3.10.2 64-bit",
   "language": "python",
   "name": "python3"
  },
  "language_info": {
   "codemirror_mode": {
    "name": "ipython",
    "version": 3
   },
   "file_extension": ".py",
   "mimetype": "text/x-python",
   "name": "python",
   "nbconvert_exporter": "python",
   "pygments_lexer": "ipython3",
   "version": "3.10.2"
  },
  "orig_nbformat": 4
 },
 "nbformat": 4,
 "nbformat_minor": 2
}
