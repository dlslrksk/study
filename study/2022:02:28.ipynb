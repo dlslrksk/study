{
 "cells": [
  {
   "cell_type": "code",
   "execution_count": null,
   "metadata": {},
   "outputs": [],
   "source": [
    "# 지난주 복습\n",
    "\n",
    "print (10+24)\n",
    "\n",
    "print (\"hello\" + \"world\")\n",
    "\n",
    "print (\"hello\" , \"world\")\n",
    "\n",
    "# int, str, float, bool"
   ]
  },
  {
   "cell_type": "code",
   "execution_count": 2,
   "metadata": {},
   "outputs": [
    {
     "name": "stdout",
     "output_type": "stream",
     "text": [
      "(1, 2, 3, 4)\n",
      "1\n"
     ]
    }
   ],
   "source": [
    "# 튜플 ()\n",
    "# 가장 기본적인 리스트 형태\n",
    "# 데이터의 수정불가\n",
    "\n",
    "tuple_num = (1,2,3,4)\n",
    "print(tuple_num)\n",
    "\n",
    "print(tuple_num[0])"
   ]
  },
  {
   "cell_type": "code",
   "execution_count": 3,
   "metadata": {},
   "outputs": [
    {
     "name": "stdout",
     "output_type": "stream",
     "text": [
      "((1, 2, 3), (4, 5, 6))\n",
      "1\n"
     ]
    }
   ],
   "source": [
    "tuple_num_2 = ((1,2,3),(4,5,6))\n",
    "print(tuple_num_2)\n",
    "\n",
    "print(tuple_num_2[0][0])"
   ]
  },
  {
   "cell_type": "code",
   "execution_count": null,
   "metadata": {},
   "outputs": [],
   "source": [
    "# 리스트[]\n",
    "# 데이터 수정가능\n",
    "\n",
    "list_num = [1,2,3,4,\"a\"]\n",
    "print(list_num[4])"
   ]
  },
  {
   "cell_type": "code",
   "execution_count": 5,
   "metadata": {},
   "outputs": [
    {
     "name": "stdout",
     "output_type": "stream",
     "text": [
      "test\n"
     ]
    }
   ],
   "source": [
    "# 딕션너리 {}\n",
    "# KEY 와 VALUE 형태\n",
    "# {'key1' : 'value1', 'key2' : 'value2'}\n",
    "\n",
    "dict_num = {\"name\" : \"test\", \"phone\" : \"01012345678\"}\n",
    "\n",
    "print(dict_num[\"name\"])"
   ]
  },
  {
   "cell_type": "code",
   "execution_count": null,
   "metadata": {},
   "outputs": [],
   "source": [
    "# 조건문 : if, elif, else\n",
    "# 반복문 : for, while\n",
    "\n",
    "for i in range(1,10,1):\n",
    "    print(\"%d 번째 반복\" %i) # %d -> 정수, %s -> 문자, %f -> 실수"
   ]
  },
  {
   "cell_type": "code",
   "execution_count": 6,
   "metadata": {},
   "outputs": [
    {
     "name": "stdout",
     "output_type": "stream",
     "text": [
      "test1\n",
      "test2\n",
      "test3\n"
     ]
    }
   ],
   "source": [
    "dict_list = [{\"name\" : \"test1\", \"password\" : \"1234\"},\n",
    "            {\"name\" : \"test2\", \"password\" : \"1234\"},\n",
    "            {\"name\" : \"test3\", \"password\" : \"1234\"},]\n",
    "\n",
    "for i in range(0, len(dict_list), 1):\n",
    "    print(dict_list[i][\"name\"])\n",
    "\n",
    "# len을 자주 사용하자"
   ]
  },
  {
   "cell_type": "code",
   "execution_count": 7,
   "metadata": {},
   "outputs": [
    {
     "name": "stdout",
     "output_type": "stream",
     "text": [
      "{'name': 'test1', 'password': '1234'}\n",
      "{'name': 'test2', 'password': '1234'}\n",
      "{'name': 'test3', 'password': '1234'}\n"
     ]
    }
   ],
   "source": [
    "dict_list = [{\"name\" : \"test1\", \"password\" : \"1234\"},\n",
    "            {\"name\" : \"test2\", \"password\" : \"1234\"},\n",
    "            {\"name\" : \"test3\", \"password\" : \"1234\"},]\n",
    "\n",
    "for list in dict_list:\n",
    "    print(list)"
   ]
  },
  {
   "cell_type": "code",
   "execution_count": 8,
   "metadata": {},
   "outputs": [
    {
     "name": "stdout",
     "output_type": "stream",
     "text": [
      "{'name': 'test1', 'password': '1234'}\n",
      "{'name': 'test2', 'password': '1234'}\n",
      "{'name': 'test3', 'password': '1234'}\n"
     ]
    }
   ],
   "source": [
    "dict_list = [{\"name\" : \"test1\", \"password\" : \"1234\"},\n",
    "            {\"name\" : \"test2\", \"password\" : \"1234\"},\n",
    "            {\"name\" : \"test3\", \"password\" : \"1234\"},]\n",
    "\n",
    "i = 0\n",
    "\n",
    "while i < len(dict_list):\n",
    "    print(dict_list[i])\n",
    "    i += 1"
   ]
  },
  {
   "cell_type": "code",
   "execution_count": null,
   "metadata": {},
   "outputs": [],
   "source": [
    "# 함수\n",
    "# def 함수명(매개변수, 매개변수):\n",
    "# 함수를 호출 -> 함수명(인자, 인자)\n",
    "\n",
    "dict_list = [{\"name\" : \"test1\", \"password\" : \"1234\"},\n",
    "            {\"name\" : \"test2\", \"password\" : \"1234\"},\n",
    "            {\"name\" : \"test3\", \"password\" : \"1234\"},]\n",
    "\n",
    "def func_1(input_key):\n",
    "    for i in range(0, len(dict_list), 1):\n",
    "        print(dict_list[i][input_key])\n",
    "\n",
    "func_1(\"name\")\n",
    "\n",
    "func_1(\"password\")"
   ]
  },
  {
   "cell_type": "code",
   "execution_count": 9,
   "metadata": {},
   "outputs": [
    {
     "name": "stdout",
     "output_type": "stream",
     "text": [
      "test1\n",
      "test2\n",
      "test3\n",
      "1234\n",
      "1234\n",
      "1234\n"
     ]
    }
   ],
   "source": [
    "dict_list = [{\"name\" : \"test1\", \"password\" : \"1234\"},\n",
    "            {\"name\" : \"test2\", \"password\" : \"1234\"},\n",
    "            {\"name\" : \"test3\", \"password\" : \"1234\"},]\n",
    "\n",
    "def func_1(input_key):\n",
    "    for list in dict_list:\n",
    "        print(list[input_key])\n",
    "\n",
    "func_1(\"name\")\n",
    "\n",
    "func_1(\"password\")"
   ]
  },
  {
   "cell_type": "code",
   "execution_count": 10,
   "metadata": {},
   "outputs": [
    {
     "name": "stdout",
     "output_type": "stream",
     "text": [
      "test1\n",
      "test2\n",
      "test3\n"
     ]
    }
   ],
   "source": [
    "def func_2(input_key):\n",
    "    i = 0\n",
    "    while i < len(dict_list):\n",
    "        print(dict_list[i][input_key])\n",
    "        i += 1\n",
    "\n",
    "func_2(\"name\")"
   ]
  },
  {
   "cell_type": "code",
   "execution_count": 11,
   "metadata": {},
   "outputs": [
    {
     "name": "stdout",
     "output_type": "stream",
     "text": [
      "Hello\n"
     ]
    }
   ],
   "source": [
    "def func_3():\n",
    "    return \"Hello\"\n",
    "\n",
    "print(func_3())"
   ]
  },
  {
   "cell_type": "code",
   "execution_count": 12,
   "metadata": {},
   "outputs": [
    {
     "name": "stdout",
     "output_type": "stream",
     "text": [
      "11\n"
     ]
    }
   ],
   "source": [
    "def func_4(input_a, input_b):\n",
    "    result = input_a + input_b\n",
    "    return result\n",
    "\n",
    "print(func_4(5, 6))"
   ]
  },
  {
   "cell_type": "code",
   "execution_count": 13,
   "metadata": {},
   "outputs": [
    {
     "name": "stdout",
     "output_type": "stream",
     "text": [
      "10\n"
     ]
    }
   ],
   "source": [
    "def func_5():\n",
    "    a = 10\n",
    "    def func_6():\n",
    "        print(a)\n",
    "\n",
    "    func_6()\n",
    "\n",
    "func_5()"
   ]
  },
  {
   "cell_type": "code",
   "execution_count": null,
   "metadata": {},
   "outputs": [],
   "source": [
    "# 함수를 생성 -> 매개변수 3개 -> def 함수1(a,b,c): ->\n",
    "# 함수 안에 함수를 하나 더 생성 -> 함수1 -> a + b ->\n",
    "# 함수2 -> a + b 더해준 값에 c를 빼주는 함수\n",
    "\n",
    "def func_std(input_a, input_b, input_c):\n",
    "\n",
    "    def func_sum():\n",
    "        result_sum = input_a + input_b\n",
    "        return result_sum\n",
    "    \n",
    "    def func_sub():\n",
    "        result_sub = func_sum()- input_c\n",
    "        print(result_sub)\n",
    "        \n",
    "    func_sub()\n",
    "\n",
    "func_std(1,2,3)"
   ]
  },
  {
   "cell_type": "code",
   "execution_count": null,
   "metadata": {},
   "outputs": [],
   "source": [
    "# 위와 동일\n",
    "\n",
    "def func_7(a,b,c):\n",
    "    sum = a + b\n",
    "\n",
    "    def func_8():\n",
    "        result = sum - c\n",
    "        return result\n",
    "\n",
    "    print(func_8())\n",
    "\n",
    "func_7(4,5,6)"
   ]
  },
  {
   "cell_type": "code",
   "execution_count": null,
   "metadata": {},
   "outputs": [],
   "source": [
    "def func_9(input_a, input_b):\n",
    "    sum = input_a + input_b\n",
    "    return sum\n",
    "\n",
    "def func_10(input_c, input_d, input_e):\n",
    "    sum_2 = func_9(input_c, input_d)\n",
    "    result = sum_2 - input_e\n",
    "    return result\n",
    "\n",
    "print(func_10(1,2,3))"
   ]
  },
  {
   "cell_type": "code",
   "execution_count": 14,
   "metadata": {},
   "outputs": [
    {
     "name": "stdout",
     "output_type": "stream",
     "text": [
      "-1\n"
     ]
    }
   ],
   "source": [
    "# 함수 3개 생성\n",
    "# 함수1 -> 두 수의 합\n",
    "# 함수2 -> 두 수의 차\n",
    "# 함수3 -> def 함수3(a,b,c): \n",
    "# -> c의 값이 'S'면 함수1(a,b)\n",
    "# -> c의 값이 'D'면 함수2(a,b)\n",
    "# 호출 -> print(함수3)\n",
    "\n",
    "def func_plus(a,b):\n",
    "    sum = a + b\n",
    "    return sum\n",
    "\n",
    "def func_minus(a,b):\n",
    "    sub = a - b\n",
    "    return sub\n",
    "\n",
    "def func_cal(a,b,c):\n",
    "    if c == \"S\":\n",
    "        print(func_plus(a,b))\n",
    "    \n",
    "    elif c == \"D\":\n",
    "        print(func_minus(a,b))\n",
    "\n",
    "    else:\n",
    "        return \"NOT Matched\"\n",
    "\n",
    "func_cal(1,2,\"D\")\n"
   ]
  },
  {
   "cell_type": "code",
   "execution_count": null,
   "metadata": {},
   "outputs": [],
   "source": [
    "# 위와 동일\n",
    "\n",
    "def func_11(input_a,input_b):\n",
    "    result_1 = input_a + input_b\n",
    "    return result_1\n",
    "\n",
    "def func_12(input_c,input_d):\n",
    "    result_2 = input_c + input_d\n",
    "    return result_2\n",
    "\n",
    "def func_13(input_e, input_f, input_g):\n",
    "    if input_g == \"S\":\n",
    "        result_3 = func_11(input_e, input_f)\n",
    "        return result_3\n",
    "    \n",
    "    elif input_g == \"D\":\n",
    "        result_4 = func_12(input_e, input_f)\n",
    "        return result_4\n",
    "\n",
    "print(func_13(1,2,\"S\"))        "
   ]
  },
  {
   "cell_type": "code",
   "execution_count": null,
   "metadata": {},
   "outputs": [],
   "source": [
    "# 함수 -> a ~ b, c = \"짝수\", \"홀수\"\n",
    "# c 값에 따라 a ~ b 사이의 홀수 짝수 반환\n",
    "# 반환되는 값의 데이터 형태는 자유\n",
    "# return을 사용하면 함수종료\n",
    "\n",
    "def check(a,b,c):\n",
    "    if c == \"짝수\":\n",
    "        for i in range(a,b+1,1):\n",
    "            if i % 2 == 0:\n",
    "                print(i)\n",
    "\n",
    "    elif c == \"홀수\":\n",
    "        for i in range(a,b+1,1):\n",
    "            if i % 2 == 1:\n",
    "                print(i)\n",
    "\n",
    "check(10,24,\"홀수\")\n",
    "\n"
   ]
  },
  {
   "cell_type": "code",
   "execution_count": null,
   "metadata": {},
   "outputs": [],
   "source": [
    "# 위와 같음\n",
    "\n",
    "def func_14(input_a, input_b):\n",
    "    for i in range(input_a, input_b + 1, 1):\n",
    "        if i % 2 == 0:\n",
    "            print(i)\n",
    "\n",
    "def func_15(input_a, input_b):\n",
    "    for i in range(input_a, input_b + 1, 1):\n",
    "        if i % 2 == 1:\n",
    "            print(i)\n",
    "\n",
    "def func_16(input_a, input_b, input_c):\n",
    "    if input_c == \"짝수\":\n",
    "        func_14(input_a, input_b)\n",
    "    \n",
    "    elif input_c == \"홀수\":\n",
    "        func_15(input_a, input_b)\n",
    "    \n",
    "    else:\n",
    "        return \"Not Matched\"\n",
    "\n",
    "func_16(10, 24, \"홀수\")\n"
   ]
  },
  {
   "cell_type": "code",
   "execution_count": null,
   "metadata": {},
   "outputs": [],
   "source": [
    "# 리스트 확인\n",
    "\n",
    "list_even = []\n",
    "list_odd = []\n",
    "\n",
    "def func_14(input_a, input_b):\n",
    "    for i in range(input_a, input_b + 1, 1):\n",
    "        if i % 2 == 0:\n",
    "            list_even.append(i)\n",
    "    return list_even        \n",
    "\n",
    "def func_15(input_a, input_b):\n",
    "    for i in range(input_a, input_b + 1, 1):\n",
    "        if i % 2 == 1:\n",
    "            list_odd.append(i)\n",
    "    return list_odd\n",
    "\n",
    "def func_16(input_a, input_b, input_c):\n",
    "    if input_c == \"짝수\":\n",
    "        return func_14(input_a, input_b)\n",
    "    \n",
    "    elif input_c == \"홀수\":\n",
    "        return func_15(input_a, input_b)\n",
    "    \n",
    "    else:\n",
    "        return \"Not Matched\"\n",
    "\n",
    "func_16(10, 24, \"짝수\") # print(func_16(10, 24, \"짝수\"))\n"
   ]
  },
  {
   "cell_type": "code",
   "execution_count": null,
   "metadata": {},
   "outputs": [],
   "source": [
    "# 리스트에서 return과 print의 차이\n",
    "# 들여쓰기가 중요하다.\n",
    "\n",
    "list_even = []\n",
    "list_odd = []\n",
    "\n",
    "def func_14(input_a, input_b):\n",
    "    for i in range(input_a, input_b + 1, 1):\n",
    "        if i % 2 == 0:\n",
    "            list_even.append(i)\n",
    "    print(list_even)      \n",
    "\n",
    "def func_15(input_a, input_b):\n",
    "    for i in range(input_a, input_b + 1, 1):\n",
    "        if i % 2 == 1:\n",
    "            list_odd.append(i)\n",
    "    print(list_odd)\n",
    "\n",
    "def func_16(input_a, input_b, input_c):\n",
    "    if input_c == \"짝수\":\n",
    "        func_14(input_a, input_b)\n",
    "    \n",
    "    elif input_c == \"홀수\":\n",
    "        func_15(input_a, input_b)\n",
    "    \n",
    "    else:\n",
    "        return \"Not Matched\"\n",
    "\n",
    "func_16(10, 24, \"짝수\")"
   ]
  },
  {
   "cell_type": "code",
   "execution_count": 143,
   "metadata": {},
   "outputs": [],
   "source": [
    "import pandas as pd # 데이터 프레임\n",
    "import numpy as np # 행렬구조생성 및 연산\n",
    "import matplotlib as plt # 시각화"
   ]
  },
  {
   "cell_type": "code",
   "execution_count": null,
   "metadata": {},
   "outputs": [],
   "source": [
    "# 몽고 DB\n"
   ]
  }
 ],
 "metadata": {
  "interpreter": {
   "hash": "aee8b7b246df8f9039afb4144a1f6fd8d2ca17a180786b69acc140d282b71a49"
  },
  "kernelspec": {
   "display_name": "Python 3.10.2 64-bit",
   "language": "python",
   "name": "python3"
  },
  "language_info": {
   "codemirror_mode": {
    "name": "ipython",
    "version": 3
   },
   "file_extension": ".py",
   "mimetype": "text/x-python",
   "name": "python",
   "nbconvert_exporter": "python",
   "pygments_lexer": "ipython3",
   "version": "3.10.2"
  },
  "orig_nbformat": 4
 },
 "nbformat": 4,
 "nbformat_minor": 2
}
